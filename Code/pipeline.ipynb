{
 "cells": [
  {
   "cell_type": "markdown",
   "metadata": {},
   "source": [
    "# reading the data"
   ]
  },
  {
   "cell_type": "code",
   "execution_count": 6,
   "metadata": {},
   "outputs": [],
   "source": [
    "import pandas as pd\n",
    "import joblib\n",
    "\n",
    "\n",
    "smote_data = pd.read_csv('/home/nalin21478/ML-Flight-Delay-Prediction/Data/smoted_data.csv')\n",
    "\n",
    "\n",
    "\n",
    "\n",
    "\n"
   ]
  },
  {
   "cell_type": "markdown",
   "metadata": {},
   "source": [
    "# dividing to x and y"
   ]
  },
  {
   "cell_type": "code",
   "execution_count": 7,
   "metadata": {},
   "outputs": [],
   "source": [
    "x=smote_data.iloc[:,:-1]"
   ]
  },
  {
   "cell_type": "code",
   "execution_count": 8,
   "metadata": {},
   "outputs": [],
   "source": [
    "y=smote_data.iloc[:,-1]"
   ]
  },
  {
   "cell_type": "code",
   "execution_count": 9,
   "metadata": {},
   "outputs": [
    {
     "data": {
      "text/html": [
       "<div>\n",
       "<style scoped>\n",
       "    .dataframe tbody tr th:only-of-type {\n",
       "        vertical-align: middle;\n",
       "    }\n",
       "\n",
       "    .dataframe tbody tr th {\n",
       "        vertical-align: top;\n",
       "    }\n",
       "\n",
       "    .dataframe thead th {\n",
       "        text-align: right;\n",
       "    }\n",
       "</style>\n",
       "<table border=\"1\" class=\"dataframe\">\n",
       "  <thead>\n",
       "    <tr style=\"text-align: right;\">\n",
       "      <th></th>\n",
       "      <th>MONTH</th>\n",
       "      <th>DAY_OF_MONTH</th>\n",
       "      <th>DAY_OF_WEEK</th>\n",
       "      <th>DEST</th>\n",
       "      <th>CRS_ELAPSED_TIME</th>\n",
       "      <th>DISTANCE</th>\n",
       "      <th>Temperature</th>\n",
       "      <th>Dew Point</th>\n",
       "      <th>Humidity</th>\n",
       "      <th>Wind</th>\n",
       "      <th>Wind Speed</th>\n",
       "      <th>Wind Gust</th>\n",
       "      <th>Pressure</th>\n",
       "      <th>Condition</th>\n",
       "      <th>sch_dep</th>\n",
       "      <th>sch_arr</th>\n",
       "      <th>DEP_DELAY</th>\n",
       "      <th>Delayed</th>\n",
       "    </tr>\n",
       "  </thead>\n",
       "  <tbody>\n",
       "    <tr>\n",
       "      <th>0</th>\n",
       "      <td>11</td>\n",
       "      <td>1</td>\n",
       "      <td>5</td>\n",
       "      <td>10</td>\n",
       "      <td>-0.848855</td>\n",
       "      <td>-0.711515</td>\n",
       "      <td>0.761435</td>\n",
       "      <td>0.184485</td>\n",
       "      <td>-0.038486</td>\n",
       "      <td>15</td>\n",
       "      <td>2.069328</td>\n",
       "      <td>2.821704</td>\n",
       "      <td>-0.727985</td>\n",
       "      <td>3</td>\n",
       "      <td>-2.33048</td>\n",
       "      <td>-1.390801</td>\n",
       "      <td>-1</td>\n",
       "      <td>0</td>\n",
       "    </tr>\n",
       "    <tr>\n",
       "      <th>1</th>\n",
       "      <td>11</td>\n",
       "      <td>1</td>\n",
       "      <td>5</td>\n",
       "      <td>28</td>\n",
       "      <td>1.217334</td>\n",
       "      <td>1.354774</td>\n",
       "      <td>0.761435</td>\n",
       "      <td>0.184485</td>\n",
       "      <td>-0.038486</td>\n",
       "      <td>15</td>\n",
       "      <td>2.069328</td>\n",
       "      <td>2.821704</td>\n",
       "      <td>-0.727985</td>\n",
       "      <td>3</td>\n",
       "      <td>-2.33048</td>\n",
       "      <td>-1.390801</td>\n",
       "      <td>-7</td>\n",
       "      <td>0</td>\n",
       "    </tr>\n",
       "    <tr>\n",
       "      <th>2</th>\n",
       "      <td>11</td>\n",
       "      <td>1</td>\n",
       "      <td>5</td>\n",
       "      <td>20</td>\n",
       "      <td>-0.372043</td>\n",
       "      <td>-0.224999</td>\n",
       "      <td>0.761435</td>\n",
       "      <td>0.184485</td>\n",
       "      <td>-0.038486</td>\n",
       "      <td>15</td>\n",
       "      <td>2.069328</td>\n",
       "      <td>2.821704</td>\n",
       "      <td>-0.727985</td>\n",
       "      <td>3</td>\n",
       "      <td>-2.33048</td>\n",
       "      <td>-1.390801</td>\n",
       "      <td>40</td>\n",
       "      <td>1</td>\n",
       "    </tr>\n",
       "    <tr>\n",
       "      <th>3</th>\n",
       "      <td>11</td>\n",
       "      <td>1</td>\n",
       "      <td>5</td>\n",
       "      <td>30</td>\n",
       "      <td>-0.480789</td>\n",
       "      <td>-0.365448</td>\n",
       "      <td>0.761435</td>\n",
       "      <td>0.184485</td>\n",
       "      <td>-0.038486</td>\n",
       "      <td>15</td>\n",
       "      <td>2.069328</td>\n",
       "      <td>2.821704</td>\n",
       "      <td>-0.727985</td>\n",
       "      <td>3</td>\n",
       "      <td>-2.33048</td>\n",
       "      <td>-1.390801</td>\n",
       "      <td>-2</td>\n",
       "      <td>0</td>\n",
       "    </tr>\n",
       "    <tr>\n",
       "      <th>4</th>\n",
       "      <td>11</td>\n",
       "      <td>1</td>\n",
       "      <td>5</td>\n",
       "      <td>1</td>\n",
       "      <td>-0.723378</td>\n",
       "      <td>-0.572189</td>\n",
       "      <td>0.494669</td>\n",
       "      <td>0.002399</td>\n",
       "      <td>-0.038486</td>\n",
       "      <td>15</td>\n",
       "      <td>1.907431</td>\n",
       "      <td>2.563372</td>\n",
       "      <td>-0.555007</td>\n",
       "      <td>3</td>\n",
       "      <td>-2.33048</td>\n",
       "      <td>-1.390801</td>\n",
       "      <td>-4</td>\n",
       "      <td>0</td>\n",
       "    </tr>\n",
       "  </tbody>\n",
       "</table>\n",
       "</div>"
      ],
      "text/plain": [
       "   MONTH  DAY_OF_MONTH  DAY_OF_WEEK  DEST  CRS_ELAPSED_TIME  DISTANCE  \\\n",
       "0     11             1            5    10         -0.848855 -0.711515   \n",
       "1     11             1            5    28          1.217334  1.354774   \n",
       "2     11             1            5    20         -0.372043 -0.224999   \n",
       "3     11             1            5    30         -0.480789 -0.365448   \n",
       "4     11             1            5     1         -0.723378 -0.572189   \n",
       "\n",
       "   Temperature  Dew Point  Humidity  Wind  Wind Speed  Wind Gust  Pressure  \\\n",
       "0     0.761435   0.184485 -0.038486    15    2.069328   2.821704 -0.727985   \n",
       "1     0.761435   0.184485 -0.038486    15    2.069328   2.821704 -0.727985   \n",
       "2     0.761435   0.184485 -0.038486    15    2.069328   2.821704 -0.727985   \n",
       "3     0.761435   0.184485 -0.038486    15    2.069328   2.821704 -0.727985   \n",
       "4     0.494669   0.002399 -0.038486    15    1.907431   2.563372 -0.555007   \n",
       "\n",
       "   Condition  sch_dep   sch_arr  DEP_DELAY  Delayed  \n",
       "0          3 -2.33048 -1.390801         -1        0  \n",
       "1          3 -2.33048 -1.390801         -7        0  \n",
       "2          3 -2.33048 -1.390801         40        1  \n",
       "3          3 -2.33048 -1.390801         -2        0  \n",
       "4          3 -2.33048 -1.390801         -4        0  "
      ]
     },
     "execution_count": 9,
     "metadata": {},
     "output_type": "execute_result"
    }
   ],
   "source": [
    "smote_data.head()"
   ]
  },
  {
   "cell_type": "markdown",
   "metadata": {},
   "source": [
    "# splitting the data"
   ]
  },
  {
   "cell_type": "code",
   "execution_count": 10,
   "metadata": {},
   "outputs": [],
   "source": [
    "\n",
    "from sklearn.model_selection import train_test_split\n",
    "X = smote_data.drop(['Delayed', 'DEP_DELAY'], axis=1)\n",
    "y_classification = smote_data['Delayed']\n",
    "y_regression = smote_data['DEP_DELAY']\n",
    "\n",
    "\n",
    "X_train, X_test, y_class_train, y_class_test, y_reg_train, y_reg_test = train_test_split(\n",
    "    X, y_classification, y_regression, test_size=0.2, random_state=42\n",
    ")\n"
   ]
  },
  {
   "cell_type": "code",
   "execution_count": null,
   "metadata": {},
   "outputs": [],
   "source": []
  },
  {
   "cell_type": "markdown",
   "metadata": {},
   "source": [
    "# loading the classification models"
   ]
  },
  {
   "cell_type": "code",
   "execution_count": 13,
   "metadata": {},
   "outputs": [],
   "source": [
    "\n",
    "classification_model = joblib.load('/home/nalin21478/ML-Flight-Delay-Prediction/Code/Models/xgb_classifier_smote.pkl')\n",
    "\n",
    "\n",
    "regression_model = joblib.load('//home/nalin21478/ML-Flight-Delay-Prediction/Code/Models/knn_hypertuned_regression.pkl')\n",
    "\n"
   ]
  },
  {
   "cell_type": "markdown",
   "metadata": {},
   "source": [
    "# running the models"
   ]
  },
  {
   "cell_type": "code",
   "execution_count": 14,
   "metadata": {},
   "outputs": [
    {
     "name": "stdout",
     "output_type": "stream",
     "text": [
      "Classification Report:\n",
      "               precision    recall  f1-score   support\n",
      "\n",
      "           0       0.91      0.99      0.95      4705\n",
      "           1       0.99      0.90      0.94      4672\n",
      "\n",
      "    accuracy                           0.95      9377\n",
      "   macro avg       0.95      0.95      0.95      9377\n",
      "weighted avg       0.95      0.95      0.95      9377\n",
      "\n"
     ]
    },
    {
     "name": "stderr",
     "output_type": "stream",
     "text": [
      "/home/nalin21478/miniconda3/lib/python3.11/site-packages/sklearn/base.py:432: UserWarning: X has feature names, but KNeighborsRegressor was fitted without feature names\n",
      "  warnings.warn(\n"
     ]
    },
    {
     "name": "stdout",
     "output_type": "stream",
     "text": [
      "R-squared:\n",
      " 0.678587862428073\n",
      "Root Mean Squared Error (RMSE):\n",
      " 48.91525044743938\n",
      "Mean Squared Error (MSE):\n",
      " 2392.7017263357184\n"
     ]
    }
   ],
   "source": [
    "from sklearn.metrics import classification_report, r2_score, mean_squared_error\n",
    "classification_predictions = classification_model.predict(X_test)\n",
    "\n",
    "\n",
    "classification_report_result = classification_report(y_class_test, classification_predictions)\n",
    "print(\"Classification Report:\\n\", classification_report_result)\n",
    "\n",
    "\n",
    "regression_data = X_test[classification_predictions == 1]\n",
    "\n",
    "y_reg_test_filtered = y_reg_test[classification_predictions == 1]\n",
    "\n",
    "regression_predictions = regression_model.predict(regression_data)\n",
    "\n",
    "\n",
    "r2 = r2_score(y_reg_test_filtered, regression_predictions)\n",
    "print(\"R-squared:\\n\", r2)\n",
    "\n",
    "\n",
    "rmse = mean_squared_error(y_reg_test_filtered, regression_predictions, squared=False)\n",
    "print(\"Root Mean Squared Error (RMSE):\\n\", rmse)\n",
    "\n",
    "\n",
    "mse = mean_squared_error(y_reg_test_filtered, regression_predictions)\n",
    "print(\"Mean Squared Error (MSE):\\n\", mse)\n",
    "\n"
   ]
  },
  {
   "cell_type": "code",
   "execution_count": null,
   "metadata": {},
   "outputs": [],
   "source": []
  }
 ],
 "metadata": {
  "kernelspec": {
   "display_name": "base",
   "language": "python",
   "name": "python3"
  },
  "language_info": {
   "codemirror_mode": {
    "name": "ipython",
    "version": 3
   },
   "file_extension": ".py",
   "mimetype": "text/x-python",
   "name": "python",
   "nbconvert_exporter": "python",
   "pygments_lexer": "ipython3",
   "version": "3.11.5"
  }
 },
 "nbformat": 4,
 "nbformat_minor": 2
}
