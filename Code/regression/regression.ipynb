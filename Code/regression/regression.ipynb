{
 "cells": [
  {
   "cell_type": "code",
   "execution_count": 1,
   "metadata": {
    "execution": {
     "iopub.execute_input": "2023-11-18T19:58:58.972379Z",
     "iopub.status.busy": "2023-11-18T19:58:58.971804Z",
     "iopub.status.idle": "2023-11-18T19:59:00.996084Z",
     "shell.execute_reply": "2023-11-18T19:59:00.995233Z"
    }
   },
   "outputs": [],
   "source": [
    "import pandas as pd\n",
    "import numpy as np\n",
    "import matplotlib.pyplot as plt\n",
    "from sklearn.model_selection import RandomizedSearchCV"
   ]
  },
  {
   "cell_type": "code",
   "execution_count": 2,
   "metadata": {
    "execution": {
     "iopub.execute_input": "2023-11-18T19:59:00.999874Z",
     "iopub.status.busy": "2023-11-18T19:59:00.999397Z",
     "iopub.status.idle": "2023-11-18T19:59:01.003964Z",
     "shell.execute_reply": "2023-11-18T19:59:01.003424Z"
    }
   },
   "outputs": [],
   "source": [
    "import pandas as pd\n",
    "\n",
    "def read_csv_to_dataframe(file_path):\n",
    "    try:\n",
    "        df = pd.read_csv(file_path)\n",
    "        return df\n",
    "    except Exception as e:\n",
    "        print(\"An error occurred:\", e)\n",
    "        return None"
   ]
  },
  {
   "cell_type": "code",
   "execution_count": 6,
   "metadata": {
    "execution": {
     "iopub.execute_input": "2023-11-18T19:59:01.006602Z",
     "iopub.status.busy": "2023-11-18T19:59:01.006107Z",
     "iopub.status.idle": "2023-11-18T19:59:01.436707Z",
     "shell.execute_reply": "2023-11-18T19:59:01.435676Z"
    }
   },
   "outputs": [],
   "source": [
    "data=read_csv_to_dataframe('/home/nalin21478/ML-Flight-Delay-Prediction/Data/smoted_data.csv')"
   ]
  },
  {
   "cell_type": "code",
   "execution_count": 7,
   "metadata": {
    "execution": {
     "iopub.execute_input": "2023-11-18T19:59:01.440644Z",
     "iopub.status.busy": "2023-11-18T19:59:01.440243Z",
     "iopub.status.idle": "2023-11-18T19:59:01.474690Z",
     "shell.execute_reply": "2023-11-18T19:59:01.473635Z"
    }
   },
   "outputs": [
    {
     "data": {
      "text/html": [
       "<div>\n",
       "<style scoped>\n",
       "    .dataframe tbody tr th:only-of-type {\n",
       "        vertical-align: middle;\n",
       "    }\n",
       "\n",
       "    .dataframe tbody tr th {\n",
       "        vertical-align: top;\n",
       "    }\n",
       "\n",
       "    .dataframe thead th {\n",
       "        text-align: right;\n",
       "    }\n",
       "</style>\n",
       "<table border=\"1\" class=\"dataframe\">\n",
       "  <thead>\n",
       "    <tr style=\"text-align: right;\">\n",
       "      <th></th>\n",
       "      <th>MONTH</th>\n",
       "      <th>DAY_OF_MONTH</th>\n",
       "      <th>DAY_OF_WEEK</th>\n",
       "      <th>DEST</th>\n",
       "      <th>CRS_ELAPSED_TIME</th>\n",
       "      <th>DISTANCE</th>\n",
       "      <th>Temperature</th>\n",
       "      <th>Dew Point</th>\n",
       "      <th>Humidity</th>\n",
       "      <th>Wind</th>\n",
       "      <th>Wind Speed</th>\n",
       "      <th>Wind Gust</th>\n",
       "      <th>Pressure</th>\n",
       "      <th>Condition</th>\n",
       "      <th>sch_dep</th>\n",
       "      <th>sch_arr</th>\n",
       "      <th>DEP_DELAY</th>\n",
       "      <th>Delayed</th>\n",
       "    </tr>\n",
       "  </thead>\n",
       "  <tbody>\n",
       "    <tr>\n",
       "      <th>0</th>\n",
       "      <td>11</td>\n",
       "      <td>1</td>\n",
       "      <td>5</td>\n",
       "      <td>10</td>\n",
       "      <td>-0.848855</td>\n",
       "      <td>-0.711515</td>\n",
       "      <td>0.761435</td>\n",
       "      <td>0.184485</td>\n",
       "      <td>-0.038486</td>\n",
       "      <td>15</td>\n",
       "      <td>2.069328</td>\n",
       "      <td>2.821704</td>\n",
       "      <td>-0.727985</td>\n",
       "      <td>3</td>\n",
       "      <td>-2.33048</td>\n",
       "      <td>-1.390801</td>\n",
       "      <td>-1</td>\n",
       "      <td>0</td>\n",
       "    </tr>\n",
       "    <tr>\n",
       "      <th>1</th>\n",
       "      <td>11</td>\n",
       "      <td>1</td>\n",
       "      <td>5</td>\n",
       "      <td>28</td>\n",
       "      <td>1.217334</td>\n",
       "      <td>1.354774</td>\n",
       "      <td>0.761435</td>\n",
       "      <td>0.184485</td>\n",
       "      <td>-0.038486</td>\n",
       "      <td>15</td>\n",
       "      <td>2.069328</td>\n",
       "      <td>2.821704</td>\n",
       "      <td>-0.727985</td>\n",
       "      <td>3</td>\n",
       "      <td>-2.33048</td>\n",
       "      <td>-1.390801</td>\n",
       "      <td>-7</td>\n",
       "      <td>0</td>\n",
       "    </tr>\n",
       "    <tr>\n",
       "      <th>2</th>\n",
       "      <td>11</td>\n",
       "      <td>1</td>\n",
       "      <td>5</td>\n",
       "      <td>20</td>\n",
       "      <td>-0.372043</td>\n",
       "      <td>-0.224999</td>\n",
       "      <td>0.761435</td>\n",
       "      <td>0.184485</td>\n",
       "      <td>-0.038486</td>\n",
       "      <td>15</td>\n",
       "      <td>2.069328</td>\n",
       "      <td>2.821704</td>\n",
       "      <td>-0.727985</td>\n",
       "      <td>3</td>\n",
       "      <td>-2.33048</td>\n",
       "      <td>-1.390801</td>\n",
       "      <td>40</td>\n",
       "      <td>1</td>\n",
       "    </tr>\n",
       "    <tr>\n",
       "      <th>3</th>\n",
       "      <td>11</td>\n",
       "      <td>1</td>\n",
       "      <td>5</td>\n",
       "      <td>30</td>\n",
       "      <td>-0.480789</td>\n",
       "      <td>-0.365448</td>\n",
       "      <td>0.761435</td>\n",
       "      <td>0.184485</td>\n",
       "      <td>-0.038486</td>\n",
       "      <td>15</td>\n",
       "      <td>2.069328</td>\n",
       "      <td>2.821704</td>\n",
       "      <td>-0.727985</td>\n",
       "      <td>3</td>\n",
       "      <td>-2.33048</td>\n",
       "      <td>-1.390801</td>\n",
       "      <td>-2</td>\n",
       "      <td>0</td>\n",
       "    </tr>\n",
       "    <tr>\n",
       "      <th>4</th>\n",
       "      <td>11</td>\n",
       "      <td>1</td>\n",
       "      <td>5</td>\n",
       "      <td>1</td>\n",
       "      <td>-0.723378</td>\n",
       "      <td>-0.572189</td>\n",
       "      <td>0.494669</td>\n",
       "      <td>0.002399</td>\n",
       "      <td>-0.038486</td>\n",
       "      <td>15</td>\n",
       "      <td>1.907431</td>\n",
       "      <td>2.563372</td>\n",
       "      <td>-0.555007</td>\n",
       "      <td>3</td>\n",
       "      <td>-2.33048</td>\n",
       "      <td>-1.390801</td>\n",
       "      <td>-4</td>\n",
       "      <td>0</td>\n",
       "    </tr>\n",
       "  </tbody>\n",
       "</table>\n",
       "</div>"
      ],
      "text/plain": [
       "   MONTH  DAY_OF_MONTH  DAY_OF_WEEK  DEST  CRS_ELAPSED_TIME  DISTANCE  \\\n",
       "0     11             1            5    10         -0.848855 -0.711515   \n",
       "1     11             1            5    28          1.217334  1.354774   \n",
       "2     11             1            5    20         -0.372043 -0.224999   \n",
       "3     11             1            5    30         -0.480789 -0.365448   \n",
       "4     11             1            5     1         -0.723378 -0.572189   \n",
       "\n",
       "   Temperature  Dew Point  Humidity  Wind  Wind Speed  Wind Gust  Pressure  \\\n",
       "0     0.761435   0.184485 -0.038486    15    2.069328   2.821704 -0.727985   \n",
       "1     0.761435   0.184485 -0.038486    15    2.069328   2.821704 -0.727985   \n",
       "2     0.761435   0.184485 -0.038486    15    2.069328   2.821704 -0.727985   \n",
       "3     0.761435   0.184485 -0.038486    15    2.069328   2.821704 -0.727985   \n",
       "4     0.494669   0.002399 -0.038486    15    1.907431   2.563372 -0.555007   \n",
       "\n",
       "   Condition  sch_dep   sch_arr  DEP_DELAY  Delayed  \n",
       "0          3 -2.33048 -1.390801         -1        0  \n",
       "1          3 -2.33048 -1.390801         -7        0  \n",
       "2          3 -2.33048 -1.390801         40        1  \n",
       "3          3 -2.33048 -1.390801         -2        0  \n",
       "4          3 -2.33048 -1.390801         -4        0  "
      ]
     },
     "execution_count": 7,
     "metadata": {},
     "output_type": "execute_result"
    }
   ],
   "source": [
    "data.head()"
   ]
  },
  {
   "cell_type": "code",
   "execution_count": 8,
   "metadata": {
    "execution": {
     "iopub.execute_input": "2023-11-18T19:59:01.594538Z",
     "iopub.status.busy": "2023-11-18T19:59:01.594060Z",
     "iopub.status.idle": "2023-11-18T19:59:01.602135Z",
     "shell.execute_reply": "2023-11-18T19:59:01.601421Z"
    }
   },
   "outputs": [],
   "source": [
    "data=data.drop(['Delayed'],axis=1)"
   ]
  },
  {
   "cell_type": "code",
   "execution_count": 9,
   "metadata": {
    "execution": {
     "iopub.execute_input": "2023-11-18T19:59:01.609233Z",
     "iopub.status.busy": "2023-11-18T19:59:01.608884Z",
     "iopub.status.idle": "2023-11-18T19:59:01.625974Z",
     "shell.execute_reply": "2023-11-18T19:59:01.625423Z"
    }
   },
   "outputs": [
    {
     "data": {
      "text/html": [
       "<div>\n",
       "<style scoped>\n",
       "    .dataframe tbody tr th:only-of-type {\n",
       "        vertical-align: middle;\n",
       "    }\n",
       "\n",
       "    .dataframe tbody tr th {\n",
       "        vertical-align: top;\n",
       "    }\n",
       "\n",
       "    .dataframe thead th {\n",
       "        text-align: right;\n",
       "    }\n",
       "</style>\n",
       "<table border=\"1\" class=\"dataframe\">\n",
       "  <thead>\n",
       "    <tr style=\"text-align: right;\">\n",
       "      <th></th>\n",
       "      <th>MONTH</th>\n",
       "      <th>DAY_OF_MONTH</th>\n",
       "      <th>DAY_OF_WEEK</th>\n",
       "      <th>DEST</th>\n",
       "      <th>CRS_ELAPSED_TIME</th>\n",
       "      <th>DISTANCE</th>\n",
       "      <th>Temperature</th>\n",
       "      <th>Dew Point</th>\n",
       "      <th>Humidity</th>\n",
       "      <th>Wind</th>\n",
       "      <th>Wind Speed</th>\n",
       "      <th>Wind Gust</th>\n",
       "      <th>Pressure</th>\n",
       "      <th>Condition</th>\n",
       "      <th>sch_dep</th>\n",
       "      <th>sch_arr</th>\n",
       "      <th>DEP_DELAY</th>\n",
       "    </tr>\n",
       "  </thead>\n",
       "  <tbody>\n",
       "    <tr>\n",
       "      <th>0</th>\n",
       "      <td>11</td>\n",
       "      <td>1</td>\n",
       "      <td>5</td>\n",
       "      <td>10</td>\n",
       "      <td>-0.848855</td>\n",
       "      <td>-0.711515</td>\n",
       "      <td>0.761435</td>\n",
       "      <td>0.184485</td>\n",
       "      <td>-0.038486</td>\n",
       "      <td>15</td>\n",
       "      <td>2.069328</td>\n",
       "      <td>2.821704</td>\n",
       "      <td>-0.727985</td>\n",
       "      <td>3</td>\n",
       "      <td>-2.33048</td>\n",
       "      <td>-1.390801</td>\n",
       "      <td>-1</td>\n",
       "    </tr>\n",
       "    <tr>\n",
       "      <th>1</th>\n",
       "      <td>11</td>\n",
       "      <td>1</td>\n",
       "      <td>5</td>\n",
       "      <td>28</td>\n",
       "      <td>1.217334</td>\n",
       "      <td>1.354774</td>\n",
       "      <td>0.761435</td>\n",
       "      <td>0.184485</td>\n",
       "      <td>-0.038486</td>\n",
       "      <td>15</td>\n",
       "      <td>2.069328</td>\n",
       "      <td>2.821704</td>\n",
       "      <td>-0.727985</td>\n",
       "      <td>3</td>\n",
       "      <td>-2.33048</td>\n",
       "      <td>-1.390801</td>\n",
       "      <td>-7</td>\n",
       "    </tr>\n",
       "    <tr>\n",
       "      <th>2</th>\n",
       "      <td>11</td>\n",
       "      <td>1</td>\n",
       "      <td>5</td>\n",
       "      <td>20</td>\n",
       "      <td>-0.372043</td>\n",
       "      <td>-0.224999</td>\n",
       "      <td>0.761435</td>\n",
       "      <td>0.184485</td>\n",
       "      <td>-0.038486</td>\n",
       "      <td>15</td>\n",
       "      <td>2.069328</td>\n",
       "      <td>2.821704</td>\n",
       "      <td>-0.727985</td>\n",
       "      <td>3</td>\n",
       "      <td>-2.33048</td>\n",
       "      <td>-1.390801</td>\n",
       "      <td>40</td>\n",
       "    </tr>\n",
       "    <tr>\n",
       "      <th>3</th>\n",
       "      <td>11</td>\n",
       "      <td>1</td>\n",
       "      <td>5</td>\n",
       "      <td>30</td>\n",
       "      <td>-0.480789</td>\n",
       "      <td>-0.365448</td>\n",
       "      <td>0.761435</td>\n",
       "      <td>0.184485</td>\n",
       "      <td>-0.038486</td>\n",
       "      <td>15</td>\n",
       "      <td>2.069328</td>\n",
       "      <td>2.821704</td>\n",
       "      <td>-0.727985</td>\n",
       "      <td>3</td>\n",
       "      <td>-2.33048</td>\n",
       "      <td>-1.390801</td>\n",
       "      <td>-2</td>\n",
       "    </tr>\n",
       "    <tr>\n",
       "      <th>4</th>\n",
       "      <td>11</td>\n",
       "      <td>1</td>\n",
       "      <td>5</td>\n",
       "      <td>1</td>\n",
       "      <td>-0.723378</td>\n",
       "      <td>-0.572189</td>\n",
       "      <td>0.494669</td>\n",
       "      <td>0.002399</td>\n",
       "      <td>-0.038486</td>\n",
       "      <td>15</td>\n",
       "      <td>1.907431</td>\n",
       "      <td>2.563372</td>\n",
       "      <td>-0.555007</td>\n",
       "      <td>3</td>\n",
       "      <td>-2.33048</td>\n",
       "      <td>-1.390801</td>\n",
       "      <td>-4</td>\n",
       "    </tr>\n",
       "  </tbody>\n",
       "</table>\n",
       "</div>"
      ],
      "text/plain": [
       "   MONTH  DAY_OF_MONTH  DAY_OF_WEEK  DEST  CRS_ELAPSED_TIME  DISTANCE  \\\n",
       "0     11             1            5    10         -0.848855 -0.711515   \n",
       "1     11             1            5    28          1.217334  1.354774   \n",
       "2     11             1            5    20         -0.372043 -0.224999   \n",
       "3     11             1            5    30         -0.480789 -0.365448   \n",
       "4     11             1            5     1         -0.723378 -0.572189   \n",
       "\n",
       "   Temperature  Dew Point  Humidity  Wind  Wind Speed  Wind Gust  Pressure  \\\n",
       "0     0.761435   0.184485 -0.038486    15    2.069328   2.821704 -0.727985   \n",
       "1     0.761435   0.184485 -0.038486    15    2.069328   2.821704 -0.727985   \n",
       "2     0.761435   0.184485 -0.038486    15    2.069328   2.821704 -0.727985   \n",
       "3     0.761435   0.184485 -0.038486    15    2.069328   2.821704 -0.727985   \n",
       "4     0.494669   0.002399 -0.038486    15    1.907431   2.563372 -0.555007   \n",
       "\n",
       "   Condition  sch_dep   sch_arr  DEP_DELAY  \n",
       "0          3 -2.33048 -1.390801         -1  \n",
       "1          3 -2.33048 -1.390801         -7  \n",
       "2          3 -2.33048 -1.390801         40  \n",
       "3          3 -2.33048 -1.390801         -2  \n",
       "4          3 -2.33048 -1.390801         -4  "
      ]
     },
     "execution_count": 9,
     "metadata": {},
     "output_type": "execute_result"
    }
   ],
   "source": [
    "data.head()"
   ]
  },
  {
   "cell_type": "code",
   "execution_count": 10,
   "metadata": {
    "execution": {
     "iopub.execute_input": "2023-11-18T19:59:01.634973Z",
     "iopub.status.busy": "2023-11-18T19:59:01.634238Z",
     "iopub.status.idle": "2023-11-18T19:59:01.686343Z",
     "shell.execute_reply": "2023-11-18T19:59:01.685616Z"
    }
   },
   "outputs": [],
   "source": [
    "from sklearn.model_selection import train_test_split\n",
    "\n",
    "\n",
    "X = data.iloc[:, :-1]  \n",
    "y = data.iloc[:, -1]   \n",
    "\n",
    "X_train, X_test, y_train, y_test = train_test_split(X, y, test_size=0.2, random_state=42)\n",
    "\n",
    "\n",
    "X_train = X_train.reset_index(drop=True)\n",
    "X_test = X_test.reset_index(drop=True)\n"
   ]
  },
  {
   "cell_type": "code",
   "execution_count": null,
   "metadata": {
    "execution": {
     "iopub.execute_input": "2023-11-18T19:59:01.690278Z",
     "iopub.status.busy": "2023-11-18T19:59:01.689582Z",
     "iopub.status.idle": "2023-11-18T19:59:02.455158Z",
     "shell.execute_reply": "2023-11-18T19:59:02.454274Z"
    }
   },
   "outputs": [],
   "source": [
    "from lazypredict.Supervised import LazyRegressor\n",
    "reg=LazyRegressor(verbose=0,ignore_warnings=False, custom_metric=None)"
   ]
  },
  {
   "cell_type": "code",
   "execution_count": null,
   "metadata": {
    "execution": {
     "iopub.execute_input": "2023-11-18T19:59:02.458943Z",
     "iopub.status.busy": "2023-11-18T19:59:02.458265Z",
     "iopub.status.idle": "2023-11-18T21:17:04.705544Z",
     "shell.execute_reply": "2023-11-18T21:17:04.398185Z"
    }
   },
   "outputs": [
    {
     "name": "stderr",
     "output_type": "stream",
     "text": [
      " 21%|██▏       | 9/42 [00:29<03:23,  6.17s/it]"
     ]
    },
    {
     "name": "stdout",
     "output_type": "stream",
     "text": [
      "GammaRegressor model failed to execute\n",
      "Some value(s) of y are out of the valid range of the loss 'HalfGammaLoss'.\n"
     ]
    },
    {
     "name": "stderr",
     "output_type": "stream",
     "text": [
      " 74%|███████▍  | 31/42 [1:14:27<02:42, 14.75s/it]"
     ]
    },
    {
     "name": "stdout",
     "output_type": "stream",
     "text": [
      "PoissonRegressor model failed to execute\n",
      "Some value(s) of y are out of the valid range of the loss 'HalfPoissonLoss'.\n"
     ]
    },
    {
     "name": "stderr",
     "output_type": "stream",
     "text": [
      " 76%|███████▌  | 32/42 [1:14:27<01:44, 10.40s/it]"
     ]
    },
    {
     "name": "stdout",
     "output_type": "stream",
     "text": [
      "QuantileRegressor model failed to execute\n",
      "Solver interior-point is not anymore available in SciPy >= 1.11.0.\n"
     ]
    },
    {
     "name": "stderr",
     "output_type": "stream",
     "text": [
      " 98%|█████████▊| 41/42 [1:17:58<00:21, 21.26s/it]"
     ]
    },
    {
     "name": "stdout",
     "output_type": "stream",
     "text": [
      "[LightGBM] [Info] Auto-choosing row-wise multi-threading, the overhead of testing was 0.000879 seconds.\n",
      "You can set `force_row_wise=true` to remove the overhead.\n",
      "And if memory is not enough, you can set `force_col_wise=true`.\n",
      "[LightGBM] [Info] Total Bins 2706\n",
      "[LightGBM] [Info] Number of data points in the train set: 37505, number of used features: 16\n",
      "[LightGBM] [Info] Start training from score 32.074017\n"
     ]
    },
    {
     "name": "stderr",
     "output_type": "stream",
     "text": [
      "100%|██████████| 42/42 [1:18:00<00:00, 111.43s/it]\n"
     ]
    }
   ],
   "source": [
    "models,predictions=reg.fit(X_train, X_test, y_train, y_test)"
   ]
  },
  {
   "cell_type": "code",
   "execution_count": null,
   "metadata": {
    "execution": {
     "iopub.execute_input": "2023-11-18T21:17:06.188431Z",
     "iopub.status.busy": "2023-11-18T21:17:06.148574Z",
     "iopub.status.idle": "2023-11-18T21:17:07.674230Z",
     "shell.execute_reply": "2023-11-18T21:17:07.664526Z"
    }
   },
   "outputs": [
    {
     "name": "stdout",
     "output_type": "stream",
     "text": [
      "                               Adjusted R-Squared  R-Squared   RMSE  \\\n",
      "Model                                                                 \n",
      "ExtraTreesRegressor                          0.67       0.67  40.28   \n",
      "KNeighborsRegressor                          0.59       0.59  44.75   \n",
      "XGBRegressor                                 0.54       0.54  47.43   \n",
      "LGBMRegressor                                0.53       0.53  48.36   \n",
      "RandomForestRegressor                        0.52       0.52  48.44   \n",
      "HistGradientBoostingRegressor                0.51       0.51  49.16   \n",
      "BaggingRegressor                             0.47       0.47  51.33   \n",
      "GradientBoostingRegressor                    0.27       0.27  60.12   \n",
      "MLPRegressor                                 0.25       0.25  60.95   \n",
      "ExtraTreeRegressor                           0.16       0.16  64.48   \n",
      "NuSVR                                        0.06       0.06  68.04   \n",
      "TransformedTargetRegressor                   0.06       0.06  68.16   \n",
      "LinearRegression                             0.06       0.06  68.16   \n",
      "Lars                                         0.06       0.06  68.16   \n",
      "LarsCV                                       0.06       0.06  68.16   \n",
      "LassoLarsCV                                  0.06       0.06  68.16   \n",
      "LassoLarsIC                                  0.06       0.06  68.16   \n",
      "RidgeCV                                      0.06       0.06  68.16   \n",
      "Ridge                                        0.06       0.06  68.16   \n",
      "LassoCV                                      0.06       0.06  68.16   \n",
      "BayesianRidge                                0.06       0.06  68.16   \n",
      "SGDRegressor                                 0.06       0.06  68.22   \n",
      "ElasticNetCV                                 0.05       0.06  68.24   \n",
      "Lasso                                        0.05       0.05  68.47   \n",
      "LassoLars                                    0.05       0.05  68.47   \n",
      "ElasticNet                                   0.04       0.04  68.67   \n",
      "TweedieRegressor                             0.04       0.04  68.80   \n",
      "OrthogonalMatchingPursuitCV                  0.04       0.04  68.85   \n",
      "SVR                                          0.03       0.04  68.95   \n",
      "OrthogonalMatchingPursuit                    0.02       0.02  69.53   \n",
      "DecisionTreeRegressor                        0.01       0.01  69.81   \n",
      "DummyRegressor                              -0.00      -0.00  70.25   \n",
      "HuberRegressor                              -0.02      -0.02  70.87   \n",
      "PassiveAggressiveRegressor                  -0.02      -0.02  71.03   \n",
      "LinearSVR                                   -0.04      -0.04  71.73   \n",
      "KernelRidge                                 -0.15      -0.15  75.37   \n",
      "RANSACRegressor                             -0.24      -0.24  78.19   \n",
      "AdaBoostRegressor                           -0.34      -0.34  81.31   \n",
      "GaussianProcessRegressor                   -40.03     -39.96 449.57   \n",
      "\n",
      "                               Time Taken  \n",
      "Model                                      \n",
      "ExtraTreesRegressor                 18.09  \n",
      "KNeighborsRegressor                  6.91  \n",
      "XGBRegressor                        13.08  \n",
      "LGBMRegressor                        1.76  \n",
      "RandomForestRegressor               41.83  \n",
      "HistGradientBoostingRegressor       10.44  \n",
      "BaggingRegressor                     5.42  \n",
      "GradientBoostingRegressor           45.03  \n",
      "MLPRegressor                        53.51  \n",
      "ExtraTreeRegressor                   0.21  \n",
      "NuSVR                              139.96  \n",
      "TransformedTargetRegressor           0.18  \n",
      "LinearRegression                     0.21  \n",
      "Lars                                 3.13  \n",
      "LarsCV                               2.03  \n",
      "LassoLarsCV                          0.36  \n",
      "LassoLarsIC                          0.83  \n",
      "RidgeCV                              0.76  \n",
      "Ridge                                0.37  \n",
      "LassoCV                              1.58  \n",
      "BayesianRidge                        0.71  \n",
      "SGDRegressor                         0.60  \n",
      "ElasticNetCV                         1.05  \n",
      "Lasso                                0.51  \n",
      "LassoLars                            0.10  \n",
      "ElasticNet                           0.36  \n",
      "TweedieRegressor                     0.80  \n",
      "OrthogonalMatchingPursuitCV          0.37  \n",
      "SVR                                151.21  \n",
      "OrthogonalMatchingPursuit            0.20  \n",
      "DecisionTreeRegressor                0.77  \n",
      "DummyRegressor                       0.12  \n",
      "HuberRegressor                       1.60  \n",
      "PassiveAggressiveRegressor           0.41  \n",
      "LinearSVR                            0.41  \n",
      "KernelRidge                        543.29  \n",
      "RANSACRegressor                      1.98  \n",
      "AdaBoostRegressor                    3.11  \n",
      "GaussianProcessRegressor          3622.73  \n"
     ]
    }
   ],
   "source": [
    "print(models)"
   ]
  },
  {
   "cell_type": "code",
   "execution_count": null,
   "metadata": {
    "execution": {
     "iopub.execute_input": "2023-11-18T21:17:07.775890Z",
     "iopub.status.busy": "2023-11-18T21:17:07.775131Z",
     "iopub.status.idle": "2023-11-18T21:17:07.827259Z",
     "shell.execute_reply": "2023-11-18T21:17:07.826460Z"
    }
   },
   "outputs": [
    {
     "name": "stdout",
     "output_type": "stream",
     "text": [
      "                               Adjusted R-Squared  R-Squared   RMSE  \\\n",
      "Model                                                                 \n",
      "ExtraTreesRegressor                          0.67       0.67  40.28   \n",
      "KNeighborsRegressor                          0.59       0.59  44.75   \n",
      "XGBRegressor                                 0.54       0.54  47.43   \n",
      "LGBMRegressor                                0.53       0.53  48.36   \n",
      "RandomForestRegressor                        0.52       0.52  48.44   \n",
      "HistGradientBoostingRegressor                0.51       0.51  49.16   \n",
      "BaggingRegressor                             0.47       0.47  51.33   \n",
      "GradientBoostingRegressor                    0.27       0.27  60.12   \n",
      "MLPRegressor                                 0.25       0.25  60.95   \n",
      "ExtraTreeRegressor                           0.16       0.16  64.48   \n",
      "NuSVR                                        0.06       0.06  68.04   \n",
      "TransformedTargetRegressor                   0.06       0.06  68.16   \n",
      "LinearRegression                             0.06       0.06  68.16   \n",
      "Lars                                         0.06       0.06  68.16   \n",
      "LarsCV                                       0.06       0.06  68.16   \n",
      "LassoLarsCV                                  0.06       0.06  68.16   \n",
      "LassoLarsIC                                  0.06       0.06  68.16   \n",
      "RidgeCV                                      0.06       0.06  68.16   \n",
      "Ridge                                        0.06       0.06  68.16   \n",
      "LassoCV                                      0.06       0.06  68.16   \n",
      "BayesianRidge                                0.06       0.06  68.16   \n",
      "SGDRegressor                                 0.06       0.06  68.22   \n",
      "ElasticNetCV                                 0.05       0.06  68.24   \n",
      "Lasso                                        0.05       0.05  68.47   \n",
      "LassoLars                                    0.05       0.05  68.47   \n",
      "ElasticNet                                   0.04       0.04  68.67   \n",
      "TweedieRegressor                             0.04       0.04  68.80   \n",
      "OrthogonalMatchingPursuitCV                  0.04       0.04  68.85   \n",
      "SVR                                          0.03       0.04  68.95   \n",
      "OrthogonalMatchingPursuit                    0.02       0.02  69.53   \n",
      "DecisionTreeRegressor                        0.01       0.01  69.81   \n",
      "DummyRegressor                              -0.00      -0.00  70.25   \n",
      "HuberRegressor                              -0.02      -0.02  70.87   \n",
      "PassiveAggressiveRegressor                  -0.02      -0.02  71.03   \n",
      "LinearSVR                                   -0.04      -0.04  71.73   \n",
      "KernelRidge                                 -0.15      -0.15  75.37   \n",
      "RANSACRegressor                             -0.24      -0.24  78.19   \n",
      "AdaBoostRegressor                           -0.34      -0.34  81.31   \n",
      "GaussianProcessRegressor                   -40.03     -39.96 449.57   \n",
      "\n",
      "                               Time Taken  \n",
      "Model                                      \n",
      "ExtraTreesRegressor                 18.09  \n",
      "KNeighborsRegressor                  6.91  \n",
      "XGBRegressor                        13.08  \n",
      "LGBMRegressor                        1.76  \n",
      "RandomForestRegressor               41.83  \n",
      "HistGradientBoostingRegressor       10.44  \n",
      "BaggingRegressor                     5.42  \n",
      "GradientBoostingRegressor           45.03  \n",
      "MLPRegressor                        53.51  \n",
      "ExtraTreeRegressor                   0.21  \n",
      "NuSVR                              139.96  \n",
      "TransformedTargetRegressor           0.18  \n",
      "LinearRegression                     0.21  \n",
      "Lars                                 3.13  \n",
      "LarsCV                               2.03  \n",
      "LassoLarsCV                          0.36  \n",
      "LassoLarsIC                          0.83  \n",
      "RidgeCV                              0.76  \n",
      "Ridge                                0.37  \n",
      "LassoCV                              1.58  \n",
      "BayesianRidge                        0.71  \n",
      "SGDRegressor                         0.60  \n",
      "ElasticNetCV                         1.05  \n",
      "Lasso                                0.51  \n",
      "LassoLars                            0.10  \n",
      "ElasticNet                           0.36  \n",
      "TweedieRegressor                     0.80  \n",
      "OrthogonalMatchingPursuitCV          0.37  \n",
      "SVR                                151.21  \n",
      "OrthogonalMatchingPursuit            0.20  \n",
      "DecisionTreeRegressor                0.77  \n",
      "DummyRegressor                       0.12  \n",
      "HuberRegressor                       1.60  \n",
      "PassiveAggressiveRegressor           0.41  \n",
      "LinearSVR                            0.41  \n",
      "KernelRidge                        543.29  \n",
      "RANSACRegressor                      1.98  \n",
      "AdaBoostRegressor                    3.11  \n",
      "GaussianProcessRegressor          3622.73  \n"
     ]
    }
   ],
   "source": [
    "print(predictions)"
   ]
  },
  {
   "cell_type": "markdown",
   "metadata": {},
   "source": [
    "# K Nearest regression"
   ]
  },
  {
   "cell_type": "code",
   "execution_count": null,
   "metadata": {},
   "outputs": [
    {
     "name": "stdout",
     "output_type": "stream",
     "text": [
      "Best Hyperparameters: {'weights': 'distance', 'n_neighbors': 3, 'metric': 'manhattan'}\n",
      "Mean Absolute Error: 15.129525035869792\n",
      "Mean Squared Error: 1576.6316746950915\n",
      "Root Mean Squared Error: 39.70682151337591\n",
      "R2 Score: 0.6804849194859881\n"
     ]
    }
   ],
   "source": [
    "from sklearn.model_selection import RandomizedSearchCV\n",
    "from sklearn.neighbors import KNeighborsRegressor\n",
    "from sklearn import metrics\n",
    "\n",
    "\n",
    "\n",
    "knn = KNeighborsRegressor()\n",
    "\n",
    "\n",
    "param_dist = {\n",
    "    'n_neighbors': [3, 5, 7, 9,11],  \n",
    "    'weights': ['uniform', 'distance'],\n",
    "    'metric': ['euclidean', 'manhattan']\n",
    "}\n",
    "\n",
    "random_search = RandomizedSearchCV(\n",
    "    knn, param_distributions=param_dist, n_iter=10, cv=5, scoring='neg_mean_squared_error', random_state=42\n",
    ")\n",
    "\n",
    "\n",
    "random_search.fit(X_train, y_train)\n",
    "\n",
    "\n",
    "best_params = random_search.best_params_\n",
    "print('Best Hyperparameters:', best_params)\n",
    "\n",
    "y_pred = random_search.predict(X_test)\n",
    "\n",
    "\n",
    "print('Mean Absolute Error:', metrics.mean_absolute_error(y_test, y_pred))\n",
    "print('Mean Squared Error:', metrics.mean_squared_error(y_test, y_pred))\n",
    "print('Root Mean Squared Error:', np.sqrt(metrics.mean_squared_error(y_test, y_pred)))\n",
    "print('R2 Score:', metrics.r2_score(y_test, y_pred))\n"
   ]
  },
  {
   "cell_type": "markdown",
   "metadata": {},
   "source": [
    "# GB regressor"
   ]
  },
  {
   "cell_type": "code",
   "execution_count": null,
   "metadata": {},
   "outputs": [
    {
     "name": "stdout",
     "output_type": "stream",
     "text": [
      "Best Hyperparameters: {'subsample': 0.9, 'n_estimators': 100, 'min_samples_split': 2, 'min_samples_leaf': 2, 'max_depth': 4, 'learning_rate': 0.1}\n",
      "Mean Absolute Error: 28.397330043047315\n",
      "Mean Squared Error: 3209.5789329018316\n",
      "Root Mean Squared Error: 56.653145834117915\n",
      "R2 Score: 0.3495571047939712\n"
     ]
    }
   ],
   "source": [
    "from sklearn.ensemble import GradientBoostingRegressor\n",
    "from sklearn.model_selection import RandomizedSearchCV\n",
    "from sklearn import metrics\n",
    "import numpy as np\n",
    "\n",
    "\n",
    "gb_regressor = GradientBoostingRegressor()\n",
    "\n",
    "param_dist = {\n",
    "    'n_estimators': [50, 100, 150],\n",
    "    'learning_rate': [0.01, 0.1, 0.2],\n",
    "    'max_depth': [3, 4, 5],\n",
    "    'min_samples_split': [2, 5, 10],\n",
    "    'min_samples_leaf': [1, 2, 4],\n",
    "    'subsample': [0.8, 0.9, 1.0]\n",
    "}\n",
    "\n",
    "\n",
    "random_search_gb = RandomizedSearchCV(\n",
    "    gb_regressor, param_distributions=param_dist, n_iter=10, cv=5, scoring='neg_mean_squared_error', random_state=42\n",
    ")\n",
    "\n",
    "\n",
    "random_search_gb.fit(X_train, y_train)\n",
    "\n",
    "\n",
    "best_params_gb = random_search_gb.best_params_\n",
    "print('Best Hyperparameters:', best_params_gb)\n",
    "\n",
    "\n",
    "y_pred_gb = random_search_gb.predict(X_test)\n",
    "\n",
    "\n",
    "print('Mean Absolute Error:', metrics.mean_absolute_error(y_test, y_pred_gb))\n",
    "print('Mean Squared Error:', metrics.mean_squared_error(y_test, y_pred_gb))\n",
    "print('Root Mean Squared Error:', np.sqrt(metrics.mean_squared_error(y_test, y_pred_gb)))\n",
    "print('R2 Score:', metrics.r2_score(y_test, y_pred_gb))\n"
   ]
  },
  {
   "cell_type": "markdown",
   "metadata": {},
   "source": [
    "# SVR"
   ]
  },
  {
   "cell_type": "code",
   "execution_count": null,
   "metadata": {},
   "outputs": [],
   "source": [
    "from sklearn.svm import SVR\n",
    "from sklearn.model_selection import RandomizedSearchCV\n",
    "from sklearn import metrics\n",
    "import numpy as np\n",
    "\n",
    "\n",
    "# Define the SVR regressor\n",
    "svr_regressor = SVR()\n",
    "\n",
    "\n",
    "param_dist = {\n",
    "    'C': [0.1, 1, 10, 100],  \n",
    "    'kernel': ['linear', 'poly', 'rbf', 'sigmoid'],\n",
    "    'degree': [2, 3, 4], \n",
    "    'gamma': ['scale', 'auto', 0.1, 0.01],  \n",
    "}\n",
    "\n",
    "\n",
    "random_search_svr = RandomizedSearchCV(\n",
    "    svr_regressor, param_distributions=param_dist, n_iter=10, cv=5, scoring='neg_mean_squared_error', random_state=42\n",
    ")\n",
    "\n",
    "\n",
    "random_search_svr.fit(X_train, y_train)\n",
    "\n",
    "\n",
    "best_params_svr = random_search_svr.best_params_\n",
    "print('Best Hyperparameters:', best_params_svr)\n",
    "\n",
    "y_pred_svr = random_search_svr.predict(X_test)\n",
    "\n",
    "\n",
    "print('Mean Absolute Error:', metrics.mean_absolute_error(y_test, y_pred_svr))\n",
    "print('Mean Squared Error:', metrics.mean_squared_error(y_test, y_pred_svr))\n",
    "print('Root Mean Squared Error:', np.sqrt(metrics.mean_squared_error(y_test, y_pred_svr)))\n",
    "print('R2 Score:', metrics.r2_score(y_test, y_pred_svr))\n"
   ]
  },
  {
   "cell_type": "markdown",
   "metadata": {},
   "source": [
    "# adaboost"
   ]
  },
  {
   "cell_type": "code",
   "execution_count": null,
   "metadata": {},
   "outputs": [],
   "source": [
    "from sklearn.ensemble import AdaBoostRegressor\n",
    "from sklearn.model_selection import RandomizedSearchCV\n",
    "from sklearn import metrics\n",
    "import numpy as np\n",
    "\n",
    "\n",
    "adaboost_regressor = AdaBoostRegressor(base_estimator=None)\n",
    "\n",
    "\n",
    "param_dist = {\n",
    "    'n_estimators': [50, 100, 150, 200],  \n",
    "    'learning_rate': [0.01, 0.1, 0.2, 0.5],  \n",
    "    'loss': ['linear', 'square', 'exponential'],  \n",
    "\n",
    "}\n",
    "\n",
    "\n",
    "random_search_adaboost = RandomizedSearchCV(\n",
    "    adaboost_regressor, param_distributions=param_dist, n_iter=10, cv=5, scoring='neg_mean_squared_error', random_state=42\n",
    ")\n",
    "\n",
    "\n",
    "random_search_adaboost.fit(X_train, y_train)\n",
    "\n",
    "\n",
    "best_params_adaboost = random_search_adaboost.best_params_\n",
    "print('Best Hyperparameters:', best_params_adaboost)\n",
    "\n",
    "\n",
    "y_pred_adaboost = random_search_adaboost.predict(X_test)\n",
    "\n",
    "print('Mean Absolute Error:', metrics.mean_absolute_error(y_test, y_pred_adaboost))\n",
    "print('Mean Squared Error:', metrics.mean_squared_error(y_test, y_pred_adaboost))\n",
    "print('Root Mean Squared Error:', np.sqrt(metrics.mean_squared_error(y_test, y_pred_adaboost)))\n",
    "print('R2 Score:', metrics.r2_score(y_test, y_pred_adaboost))\n"
   ]
  },
  {
   "cell_type": "markdown",
   "metadata": {},
   "source": [
    "# ridge and lasso"
   ]
  },
  {
   "cell_type": "code",
   "execution_count": null,
   "metadata": {},
   "outputs": [
    {
     "name": "stdout",
     "output_type": "stream",
     "text": [
      "Best Hyperparameters for Ridge: {'alpha': 1}\n",
      "Mean Absolute Error (Ridge): 37.30081682254796\n",
      "Mean Squared Error (Ridge): 4645.2442734928\n",
      "Root Mean Squared Error (Ridge): 68.1560288858792\n",
      "R2 Score (Ridge): 0.05860980603517141\n"
     ]
    }
   ],
   "source": [
    "from sklearn.linear_model import Ridge, Lasso\n",
    "from sklearn.model_selection import RandomizedSearchCV\n",
    "from sklearn import metrics\n",
    "import numpy as np\n",
    "\n",
    "\n",
    "\n",
    "# Define the Ridge regressor\n",
    "ridge_regressor = Ridge()\n",
    "\n",
    "param_dist_ridge = {\n",
    "    'alpha': [0.1, 1, 10, 100],  \n",
    "}\n",
    "\n",
    "\n",
    "random_search_ridge = RandomizedSearchCV(\n",
    "    ridge_regressor, param_distributions=param_dist_ridge, n_iter=10, cv=5, scoring='neg_mean_squared_error', random_state=42\n",
    ")\n",
    "\n",
    "\n",
    "random_search_ridge.fit(X_train, y_train)\n",
    "\n",
    "\n",
    "best_params_ridge = random_search_ridge.best_params_\n",
    "print('Best Hyperparameters for Ridge:', best_params_ridge)\n",
    "\n",
    "\n",
    "y_pred_ridge = random_search_ridge.predict(X_test)\n",
    "\n",
    "\n",
    "print('Mean Absolute Error (Ridge):', metrics.mean_absolute_error(y_test, y_pred_ridge))\n",
    "print('Mean Squared Error (Ridge):', metrics.mean_squared_error(y_test, y_pred_ridge))\n",
    "print('Root Mean Squared Error (Ridge):', np.sqrt(metrics.mean_squared_error(y_test, y_pred_ridge)))\n",
    "print('R2 Score (Ridge):', metrics.r2_score(y_test, y_pred_ridge))\n",
    "\n",
    "\n",
    "\n"
   ]
  },
  {
   "cell_type": "code",
   "execution_count": null,
   "metadata": {},
   "outputs": [],
   "source": [
    "lasso_regressor = Lasso()\n",
    "\n",
    "\n",
    "param_dist_lasso = {\n",
    "    'alpha': [0.1, 1, 10, 100],  \n",
    "}\n",
    "\n",
    "\n",
    "random_search_lasso = RandomizedSearchCV(\n",
    "    lasso_regressor, param_distributions=param_dist_lasso, n_iter=10, cv=5, scoring='neg_mean_squared_error', random_state=42\n",
    ")\n",
    "\n",
    "\n",
    "random_search_lasso.fit(X_train, y_train)\n",
    "\n",
    "\n",
    "best_params_lasso = random_search_lasso.best_params_\n",
    "print('\\nBest Hyperparameters for Lasso:', best_params_lasso)\n",
    "\n",
    "\n",
    "y_pred_lasso = random_search_lasso.predict(X_test)\n",
    "\n",
    "\n",
    "print('Mean Absolute Error (Lasso):', metrics.mean_absolute_error(y_test, y_pred_lasso))\n",
    "print('Mean Squared Error (Lasso):', metrics.mean_squared_error(y_test, y_pred_lasso))\n",
    "print('Root Mean Squared Error (Lasso):', np.sqrt(metrics.mean_squared_error(y_test, y_pred_lasso)))\n",
    "print('R2 Score (Lasso):', metrics.r2_score(y_test, y_pred_lasso))"
   ]
  },
  {
   "cell_type": "markdown",
   "metadata": {},
   "source": [
    "# decision tree"
   ]
  },
  {
   "cell_type": "code",
   "execution_count": 11,
   "metadata": {},
   "outputs": [
    {
     "name": "stderr",
     "output_type": "stream",
     "text": [
      "/home/nalin21478/miniconda3/lib/python3.11/site-packages/sklearn/tree/_classes.py:277: FutureWarning: `max_features='auto'` has been deprecated in 1.1 and will be removed in 1.3. To keep the past behaviour, explicitly set `max_features=1.0'`.\n",
      "  warnings.warn(\n",
      "/home/nalin21478/miniconda3/lib/python3.11/site-packages/sklearn/tree/_classes.py:277: FutureWarning: `max_features='auto'` has been deprecated in 1.1 and will be removed in 1.3. To keep the past behaviour, explicitly set `max_features=1.0'`.\n",
      "  warnings.warn(\n",
      "/home/nalin21478/miniconda3/lib/python3.11/site-packages/sklearn/tree/_classes.py:277: FutureWarning: `max_features='auto'` has been deprecated in 1.1 and will be removed in 1.3. To keep the past behaviour, explicitly set `max_features=1.0'`.\n",
      "  warnings.warn(\n",
      "/home/nalin21478/miniconda3/lib/python3.11/site-packages/sklearn/tree/_classes.py:277: FutureWarning: `max_features='auto'` has been deprecated in 1.1 and will be removed in 1.3. To keep the past behaviour, explicitly set `max_features=1.0'`.\n",
      "  warnings.warn(\n",
      "/home/nalin21478/miniconda3/lib/python3.11/site-packages/sklearn/tree/_classes.py:277: FutureWarning: `max_features='auto'` has been deprecated in 1.1 and will be removed in 1.3. To keep the past behaviour, explicitly set `max_features=1.0'`.\n",
      "  warnings.warn(\n",
      "/home/nalin21478/miniconda3/lib/python3.11/site-packages/sklearn/tree/_classes.py:277: FutureWarning: `max_features='auto'` has been deprecated in 1.1 and will be removed in 1.3. To keep the past behaviour, explicitly set `max_features=1.0'`.\n",
      "  warnings.warn(\n",
      "/home/nalin21478/miniconda3/lib/python3.11/site-packages/sklearn/tree/_classes.py:277: FutureWarning: `max_features='auto'` has been deprecated in 1.1 and will be removed in 1.3. To keep the past behaviour, explicitly set `max_features=1.0'`.\n",
      "  warnings.warn(\n",
      "/home/nalin21478/miniconda3/lib/python3.11/site-packages/sklearn/tree/_classes.py:277: FutureWarning: `max_features='auto'` has been deprecated in 1.1 and will be removed in 1.3. To keep the past behaviour, explicitly set `max_features=1.0'`.\n",
      "  warnings.warn(\n",
      "/home/nalin21478/miniconda3/lib/python3.11/site-packages/sklearn/tree/_classes.py:277: FutureWarning: `max_features='auto'` has been deprecated in 1.1 and will be removed in 1.3. To keep the past behaviour, explicitly set `max_features=1.0'`.\n",
      "  warnings.warn(\n",
      "/home/nalin21478/miniconda3/lib/python3.11/site-packages/sklearn/tree/_classes.py:277: FutureWarning: `max_features='auto'` has been deprecated in 1.1 and will be removed in 1.3. To keep the past behaviour, explicitly set `max_features=1.0'`.\n",
      "  warnings.warn(\n",
      "/home/nalin21478/miniconda3/lib/python3.11/site-packages/sklearn/tree/_classes.py:277: FutureWarning: `max_features='auto'` has been deprecated in 1.1 and will be removed in 1.3. To keep the past behaviour, explicitly set `max_features=1.0'`.\n",
      "  warnings.warn(\n",
      "/home/nalin21478/miniconda3/lib/python3.11/site-packages/sklearn/tree/_classes.py:277: FutureWarning: `max_features='auto'` has been deprecated in 1.1 and will be removed in 1.3. To keep the past behaviour, explicitly set `max_features=1.0'`.\n",
      "  warnings.warn(\n",
      "/home/nalin21478/miniconda3/lib/python3.11/site-packages/sklearn/tree/_classes.py:277: FutureWarning: `max_features='auto'` has been deprecated in 1.1 and will be removed in 1.3. To keep the past behaviour, explicitly set `max_features=1.0'`.\n",
      "  warnings.warn(\n",
      "/home/nalin21478/miniconda3/lib/python3.11/site-packages/sklearn/tree/_classes.py:277: FutureWarning: `max_features='auto'` has been deprecated in 1.1 and will be removed in 1.3. To keep the past behaviour, explicitly set `max_features=1.0'`.\n",
      "  warnings.warn(\n",
      "/home/nalin21478/miniconda3/lib/python3.11/site-packages/sklearn/tree/_classes.py:277: FutureWarning: `max_features='auto'` has been deprecated in 1.1 and will be removed in 1.3. To keep the past behaviour, explicitly set `max_features=1.0'`.\n",
      "  warnings.warn(\n"
     ]
    },
    {
     "name": "stdout",
     "output_type": "stream",
     "text": [
      "Best Hyperparameters for Decision Tree: {'min_samples_split': 2, 'min_samples_leaf': 4, 'max_features': 'sqrt', 'max_depth': None}\n",
      "Mean Absolute Error (Decision Tree): 28.121787947614543\n",
      "Mean Squared Error (Decision Tree): 3871.596798442519\n",
      "Root Mean Squared Error (Decision Tree): 62.22215681284697\n",
      "R2 Score (Decision Tree): 0.2153947033879141\n"
     ]
    }
   ],
   "source": [
    "from sklearn.tree import DecisionTreeRegressor\n",
    "from sklearn.model_selection import RandomizedSearchCV\n",
    "from sklearn import metrics\n",
    "import numpy as np\n",
    "\n",
    "\n",
    "tree_regressor = DecisionTreeRegressor()\n",
    "\n",
    "param_dist_tree = {\n",
    "    'max_depth': [None, 10, 20, 30, 40, 50],\n",
    "    'min_samples_split': [2, 5, 10],\n",
    "    'min_samples_leaf': [1, 2, 4],\n",
    "    'max_features': ['auto', 'sqrt', 'log2', None]\n",
    "}\n",
    "\n",
    "random_search_tree = RandomizedSearchCV(\n",
    "    tree_regressor, param_distributions=param_dist_tree, n_iter=10, cv=5, scoring='neg_mean_squared_error', random_state=42\n",
    ")\n",
    "\n",
    "random_search_tree.fit(X_train, y_train)\n",
    "\n",
    "best_params_tree = random_search_tree.best_params_\n",
    "print('Best Hyperparameters for Decision Tree:', best_params_tree)\n",
    "\n",
    "y_pred_tree = random_search_tree.predict(X_test)\n",
    "\n",
    "print('Mean Absolute Error (Decision Tree):', metrics.mean_absolute_error(y_test, y_pred_tree))\n",
    "print('Mean Squared Error (Decision Tree):', metrics.mean_squared_error(y_test, y_pred_tree))\n",
    "print('Root Mean Squared Error (Decision Tree):', np.sqrt(metrics.mean_squared_error(y_test, y_pred_tree)))\n",
    "print('R2 Score (Decision Tree):', metrics.r2_score(y_test, y_pred_tree))\n"
   ]
  },
  {
   "cell_type": "markdown",
   "metadata": {},
   "source": [
    "Random Forest Regressor"
   ]
  },
  {
   "cell_type": "code",
   "execution_count": 8,
   "metadata": {
    "execution": {
     "iopub.execute_input": "2023-11-18T21:17:07.861433Z",
     "iopub.status.busy": "2023-11-18T21:17:07.860639Z",
     "iopub.status.idle": "2023-11-18T21:17:44.339934Z",
     "shell.execute_reply": "2023-11-18T21:17:44.339031Z"
    }
   },
   "outputs": [
    {
     "name": "stdout",
     "output_type": "stream",
     "text": [
      "Mean Absolute Error: 22.28917996922561\n",
      "Mean Squared Error: 2357.874332504218\n",
      "Root Mean Squared Error: 48.557948190839134\n",
      "R2: 0.5221608069381808\n"
     ]
    }
   ],
   "source": [
    "from sklearn.ensemble import RandomForestRegressor\n",
    "from sklearn import metrics\n",
    "from sklearn.metrics import accuracy_score\n",
    "rf = RandomForestRegressor(n_estimators=100,random_state=0)\n",
    "rf.fit(X_train, y_train)\n",
    "\n",
    "y_pred = rf.predict(X_test)\n",
    "print('Mean Absolute Error:', metrics.mean_absolute_error(y_test, y_pred))  \n",
    "print('Mean Squared Error:', metrics.mean_squared_error(y_test, y_pred))  \n",
    "print('Root Mean Squared Error:', np.sqrt(metrics.mean_squared_error(y_test, y_pred)))\n",
    "print('R2:',metrics.r2_score(y_test, y_pred))"
   ]
  },
  {
   "cell_type": "markdown",
   "metadata": {},
   "source": [
    "XGB Regressor"
   ]
  },
  {
   "cell_type": "code",
   "execution_count": 19,
   "metadata": {
    "execution": {
     "iopub.execute_input": "2023-11-18T21:17:44.382589Z",
     "iopub.status.busy": "2023-11-18T21:17:44.382081Z",
     "iopub.status.idle": "2023-11-18T21:17:46.175228Z",
     "shell.execute_reply": "2023-11-18T21:17:46.174472Z"
    }
   },
   "outputs": [
    {
     "name": "stdout",
     "output_type": "stream",
     "text": [
      "[18:23:59] WARNING: /croot/xgboost-split_1675457761144/work/src/learner.cc:767: \n",
      "Parameters: { \"copy_X\", \"fit_intercept\", \"positive\" } are not used.\n",
      "\n",
      "Mean Absolute Error: 24.24557632243467\n",
      "Mean Squared Error: 2249.378772299816\n",
      "Root Mean Squared Error: 47.427616135536645\n",
      "R2: 0.5441481665799477\n"
     ]
    }
   ],
   "source": [
    "from xgboost import XGBRegressor\n",
    "from sklearn import metrics\n",
    "from sklearn.metrics import accuracy_score\n",
    "\n",
    "xgb = XGBRegressor(positive=True, fit_intercept=True, copy_X=True)\n",
    "xgb.fit(X_train, y_train)\n",
    "\n",
    "y_pred = xgb.predict(X_test)\n",
    "print('Mean Absolute Error:', metrics.mean_absolute_error(y_test, y_pred))  \n",
    "print('Mean Squared Error:', metrics.mean_squared_error(y_test, y_pred))  \n",
    "print('Root Mean Squared Error:', np.sqrt(metrics.mean_squared_error(y_test, y_pred)))\n",
    "print('R2:',metrics.r2_score(y_test, y_pred))"
   ]
  },
  {
   "cell_type": "markdown",
   "metadata": {},
   "source": [
    "Decision Tree Regressor"
   ]
  },
  {
   "cell_type": "code",
   "execution_count": 18,
   "metadata": {
    "execution": {
     "iopub.execute_input": "2023-11-18T21:17:46.180237Z",
     "iopub.status.busy": "2023-11-18T21:17:46.179931Z",
     "iopub.status.idle": "2023-11-18T21:17:46.841258Z",
     "shell.execute_reply": "2023-11-18T21:17:46.840516Z"
    }
   },
   "outputs": [
    {
     "ename": "TypeError",
     "evalue": "DecisionTreeRegressor.__init__() got an unexpected keyword argument 'positive'",
     "output_type": "error",
     "traceback": [
      "\u001b[0;31m---------------------------------------------------------------------------\u001b[0m",
      "\u001b[0;31mTypeError\u001b[0m                                 Traceback (most recent call last)",
      "\u001b[1;32m/home/nalin21478/ML-Flight-Delay-Prediction/Code/regression.ipynb Cell 17\u001b[0m line \u001b[0;36m4\n\u001b[1;32m      <a href='vscode-notebook-cell://ssh-remote%2B192.168.3.14/home/nalin21478/ML-Flight-Delay-Prediction/Code/regression.ipynb#X22sdnNjb2RlLXJlbW90ZQ%3D%3D?line=1'>2</a>\u001b[0m \u001b[39mfrom\u001b[39;00m \u001b[39msklearn\u001b[39;00m \u001b[39mimport\u001b[39;00m metrics\n\u001b[1;32m      <a href='vscode-notebook-cell://ssh-remote%2B192.168.3.14/home/nalin21478/ML-Flight-Delay-Prediction/Code/regression.ipynb#X22sdnNjb2RlLXJlbW90ZQ%3D%3D?line=2'>3</a>\u001b[0m \u001b[39mfrom\u001b[39;00m \u001b[39msklearn\u001b[39;00m\u001b[39m.\u001b[39;00m\u001b[39mmetrics\u001b[39;00m \u001b[39mimport\u001b[39;00m accuracy_score\n\u001b[0;32m----> <a href='vscode-notebook-cell://ssh-remote%2B192.168.3.14/home/nalin21478/ML-Flight-Delay-Prediction/Code/regression.ipynb#X22sdnNjb2RlLXJlbW90ZQ%3D%3D?line=3'>4</a>\u001b[0m dtree \u001b[39m=\u001b[39m DecisionTreeRegressor(positive\u001b[39m=\u001b[39m\u001b[39mTrue\u001b[39;00m, fit_intercept\u001b[39m=\u001b[39m\u001b[39mTrue\u001b[39;00m, copy_X\u001b[39m=\u001b[39m\u001b[39mTrue\u001b[39;00m)\n\u001b[1;32m      <a href='vscode-notebook-cell://ssh-remote%2B192.168.3.14/home/nalin21478/ML-Flight-Delay-Prediction/Code/regression.ipynb#X22sdnNjb2RlLXJlbW90ZQ%3D%3D?line=4'>5</a>\u001b[0m dtree\u001b[39m.\u001b[39mfit(X_train, y_train)\n\u001b[1;32m      <a href='vscode-notebook-cell://ssh-remote%2B192.168.3.14/home/nalin21478/ML-Flight-Delay-Prediction/Code/regression.ipynb#X22sdnNjb2RlLXJlbW90ZQ%3D%3D?line=6'>7</a>\u001b[0m y_pred \u001b[39m=\u001b[39m dtree\u001b[39m.\u001b[39mpredict(X_test)\n",
      "\u001b[0;31mTypeError\u001b[0m: DecisionTreeRegressor.__init__() got an unexpected keyword argument 'positive'"
     ]
    }
   ],
   "source": [
    "from sklearn.tree import DecisionTreeRegressor\n",
    "from sklearn import metrics\n",
    "from sklearn.metrics import accuracy_score\n",
    "dtree = DecisionTreeRegressor(positive=True, fit_intercept=True, copy_X=True)\n",
    "dtree.fit(X_train, y_train)\n",
    "\n",
    "y_pred = dtree.predict(X_test)\n",
    "print('Mean Absolute Error:', metrics.mean_absolute_error(y_test, y_pred))  \n",
    "print('Mean Squared Error:', metrics.mean_squared_error(y_test, y_pred))  \n",
    "print('Root Mean Squared Error:', np.sqrt(metrics.mean_squared_error(y_test, y_pred)))\n",
    "print('R2:',metrics.r2_score(y_test, y_pred))"
   ]
  },
  {
   "cell_type": "markdown",
   "metadata": {},
   "source": [
    "Linear Regression"
   ]
  },
  {
   "cell_type": "code",
   "execution_count": 11,
   "metadata": {
    "execution": {
     "iopub.execute_input": "2023-11-18T21:17:46.900236Z",
     "iopub.status.busy": "2023-11-18T21:17:46.899651Z",
     "iopub.status.idle": "2023-11-18T21:17:47.010189Z",
     "shell.execute_reply": "2023-11-18T21:17:47.009227Z"
    }
   },
   "outputs": [
    {
     "name": "stdout",
     "output_type": "stream",
     "text": [
      "Mean Absolute Error: 37.301328798693596\n",
      "Mean Squared Error: 4645.205016989229\n",
      "Root Mean Squared Error: 68.15574089531438\n",
      "R2: 0.05861776163133281\n"
     ]
    }
   ],
   "source": [
    "from sklearn.linear_model import LinearRegression\n",
    "from sklearn import metrics\n",
    "from sklearn.metrics import accuracy_score\n",
    "lreg= LinearRegression()\n",
    "lreg.fit(X_train, y_train)\n",
    "\n",
    "y_pred = lreg.predict(X_test)\n",
    "print('Mean Absolute Error:', metrics.mean_absolute_error(y_test, y_pred))  \n",
    "print('Mean Squared Error:', metrics.mean_squared_error(y_test, y_pred))  \n",
    "print('Root Mean Squared Error:', np.sqrt(metrics.mean_squared_error(y_test, y_pred)))\n",
    "print('R2:',metrics.r2_score(y_test, y_pred))"
   ]
  },
  {
   "cell_type": "markdown",
   "metadata": {},
   "source": [
    "Ridge"
   ]
  },
  {
   "cell_type": "code",
   "execution_count": 12,
   "metadata": {
    "execution": {
     "iopub.execute_input": "2023-11-18T21:17:47.031688Z",
     "iopub.status.busy": "2023-11-18T21:17:47.031369Z",
     "iopub.status.idle": "2023-11-18T21:17:47.059891Z",
     "shell.execute_reply": "2023-11-18T21:17:47.059244Z"
    }
   },
   "outputs": [
    {
     "name": "stdout",
     "output_type": "stream",
     "text": [
      "Mean Absolute Error: 37.30081682254796\n",
      "Mean Squared Error: 4645.2442734928\n",
      "Root Mean Squared Error: 68.1560288858792\n",
      "R2: 0.05860980603517141\n"
     ]
    }
   ],
   "source": [
    "from sklearn.linear_model import Ridge\n",
    "from sklearn import metrics\n",
    "from sklearn.metrics import accuracy_score\n",
    "ridge = Ridge()\n",
    "ridge.fit(X_train, y_train)\n",
    "\n",
    "y_pred = ridge.predict(X_test)\n",
    "print('Mean Absolute Error:', metrics.mean_absolute_error(y_test, y_pred))  \n",
    "print('Mean Squared Error:', metrics.mean_squared_error(y_test, y_pred))  \n",
    "print('Root Mean Squared Error:', np.sqrt(metrics.mean_squared_error(y_test, y_pred)))\n",
    "print('R2:',metrics.r2_score(y_test, y_pred))"
   ]
  },
  {
   "cell_type": "markdown",
   "metadata": {},
   "source": [
    "Hyperparameter Tuning"
   ]
  },
  {
   "cell_type": "code",
   "execution_count": 13,
   "metadata": {
    "execution": {
     "iopub.execute_input": "2023-11-18T21:17:47.081710Z",
     "iopub.status.busy": "2023-11-18T21:17:47.081382Z",
     "iopub.status.idle": "2023-11-18T21:55:48.868725Z",
     "shell.execute_reply": "2023-11-18T21:55:48.867797Z"
    }
   },
   "outputs": [
    {
     "name": "stdout",
     "output_type": "stream",
     "text": [
      "{'n_estimators': 230, 'min_samples_split': 2, 'max_depth': 110, 'bootstrap': True}\n",
      "0.5057533784613708\n"
     ]
    }
   ],
   "source": [
    "#random forest\n",
    "grid = {'bootstrap': [True, False],'max_depth': [10, 20, 40, 80, 90, 110, None],\n",
    "'min_samples_split': [2, 5, 10, 12],'n_estimators': [130, 180, 230]}\n",
    "hptuning_rf= RandomizedSearchCV(estimator = rf, param_distributions = grid)\n",
    "hptuning_rf.fit(X_train,y_train)\n",
    "print(hptuning_rf.best_params_)\n",
    "print(hptuning_rf.best_score_)\n"
   ]
  },
  {
   "cell_type": "code",
   "execution_count": 14,
   "metadata": {
    "execution": {
     "iopub.execute_input": "2023-11-18T21:55:48.916741Z",
     "iopub.status.busy": "2023-11-18T21:55:48.916533Z",
     "iopub.status.idle": "2023-11-18T22:01:00.594977Z",
     "shell.execute_reply": "2023-11-18T22:01:00.594193Z"
    }
   },
   "outputs": [
    {
     "name": "stdout",
     "output_type": "stream",
     "text": [
      "{'n_estimators': 130, 'max_depth': None}\n",
      "0.5186379536446365\n"
     ]
    }
   ],
   "source": [
    "#xgb\n",
    "grid = {'max_depth': [10, 20, 40, 80, 90, 110, None],'n_estimators': [130, 180, 230]}\n",
    "hptuning_xgb= RandomizedSearchCV(estimator = xgb, param_distributions = grid)\n",
    "hptuning_xgb.fit(X_train,y_train)\n",
    "print(hptuning_xgb.best_params_)\n",
    "print(hptuning_xgb.best_score_)"
   ]
  },
  {
   "cell_type": "code",
   "execution_count": 15,
   "metadata": {
    "execution": {
     "iopub.execute_input": "2023-11-18T22:01:00.629341Z",
     "iopub.status.busy": "2023-11-18T22:01:00.629007Z",
     "iopub.status.idle": "2023-11-18T22:06:44.782866Z",
     "shell.execute_reply": "2023-11-18T22:06:44.782144Z"
    }
   },
   "outputs": [
    {
     "name": "stdout",
     "output_type": "stream",
     "text": [
      "[17:12:34] WARNING: /croot/xgboost-split_1675457761144/work/src/learner.cc:767: \n",
      "Parameters: { \"criterion\", \"min_samples_split\", \"splitter\" } are not used.\n",
      "\n",
      "[17:12:58] WARNING: /croot/xgboost-split_1675457761144/work/src/learner.cc:767: \n",
      "Parameters: { \"criterion\", \"min_samples_split\", \"splitter\" } are not used.\n",
      "\n",
      "[17:13:21] WARNING: /croot/xgboost-split_1675457761144/work/src/learner.cc:767: \n",
      "Parameters: { \"criterion\", \"min_samples_split\", \"splitter\" } are not used.\n",
      "\n",
      "[17:13:46] WARNING: /croot/xgboost-split_1675457761144/work/src/learner.cc:767: \n",
      "Parameters: { \"criterion\", \"min_samples_split\", \"splitter\" } are not used.\n",
      "\n",
      "[17:14:10] WARNING: /croot/xgboost-split_1675457761144/work/src/learner.cc:767: \n",
      "Parameters: { \"criterion\", \"min_samples_split\", \"splitter\" } are not used.\n",
      "\n",
      "[17:14:33] WARNING: /croot/xgboost-split_1675457761144/work/src/learner.cc:767: \n",
      "Parameters: { \"criterion\", \"min_samples_split\", \"splitter\" } are not used.\n",
      "\n",
      "[17:14:56] WARNING: /croot/xgboost-split_1675457761144/work/src/learner.cc:767: \n",
      "Parameters: { \"criterion\", \"min_samples_split\", \"splitter\" } are not used.\n",
      "\n",
      "[17:15:19] WARNING: /croot/xgboost-split_1675457761144/work/src/learner.cc:767: \n",
      "Parameters: { \"criterion\", \"min_samples_split\", \"splitter\" } are not used.\n",
      "\n",
      "[17:15:42] WARNING: /croot/xgboost-split_1675457761144/work/src/learner.cc:767: \n",
      "Parameters: { \"criterion\", \"min_samples_split\", \"splitter\" } are not used.\n",
      "\n",
      "[17:16:04] WARNING: /croot/xgboost-split_1675457761144/work/src/learner.cc:767: \n",
      "Parameters: { \"criterion\", \"min_samples_split\", \"splitter\" } are not used.\n",
      "\n",
      "[17:16:27] WARNING: /croot/xgboost-split_1675457761144/work/src/learner.cc:767: \n",
      "Parameters: { \"criterion\", \"min_samples_split\", \"splitter\" } are not used.\n",
      "\n",
      "[17:16:29] WARNING: /croot/xgboost-split_1675457761144/work/src/learner.cc:767: \n",
      "Parameters: { \"criterion\", \"min_samples_split\", \"splitter\" } are not used.\n",
      "\n",
      "[17:16:32] WARNING: /croot/xgboost-split_1675457761144/work/src/learner.cc:767: \n",
      "Parameters: { \"criterion\", \"min_samples_split\", \"splitter\" } are not used.\n",
      "\n",
      "[17:16:35] WARNING: /croot/xgboost-split_1675457761144/work/src/learner.cc:767: \n",
      "Parameters: { \"criterion\", \"min_samples_split\", \"splitter\" } are not used.\n",
      "\n",
      "[17:16:37] WARNING: /croot/xgboost-split_1675457761144/work/src/learner.cc:767: \n",
      "Parameters: { \"criterion\", \"min_samples_split\", \"splitter\" } are not used.\n",
      "\n",
      "[17:16:40] WARNING: /croot/xgboost-split_1675457761144/work/src/learner.cc:767: \n",
      "Parameters: { \"criterion\", \"min_samples_split\", \"splitter\" } are not used.\n",
      "\n",
      "[17:16:43] WARNING: /croot/xgboost-split_1675457761144/work/src/learner.cc:767: \n",
      "Parameters: { \"criterion\", \"min_samples_split\", \"splitter\" } are not used.\n",
      "\n",
      "[17:16:45] WARNING: /croot/xgboost-split_1675457761144/work/src/learner.cc:767: \n",
      "Parameters: { \"criterion\", \"min_samples_split\", \"splitter\" } are not used.\n",
      "\n",
      "[17:16:48] WARNING: /croot/xgboost-split_1675457761144/work/src/learner.cc:767: \n",
      "Parameters: { \"criterion\", \"min_samples_split\", \"splitter\" } are not used.\n",
      "\n",
      "[17:16:51] WARNING: /croot/xgboost-split_1675457761144/work/src/learner.cc:767: \n",
      "Parameters: { \"criterion\", \"min_samples_split\", \"splitter\" } are not used.\n",
      "\n",
      "[17:16:53] WARNING: /croot/xgboost-split_1675457761144/work/src/learner.cc:767: \n",
      "Parameters: { \"criterion\", \"min_samples_split\", \"splitter\" } are not used.\n",
      "\n",
      "[17:17:16] WARNING: /croot/xgboost-split_1675457761144/work/src/learner.cc:767: \n",
      "Parameters: { \"criterion\", \"min_samples_split\", \"splitter\" } are not used.\n",
      "\n",
      "[17:17:41] WARNING: /croot/xgboost-split_1675457761144/work/src/learner.cc:767: \n",
      "Parameters: { \"criterion\", \"min_samples_split\", \"splitter\" } are not used.\n",
      "\n",
      "[17:18:04] WARNING: /croot/xgboost-split_1675457761144/work/src/learner.cc:767: \n",
      "Parameters: { \"criterion\", \"min_samples_split\", \"splitter\" } are not used.\n",
      "\n",
      "[17:18:27] WARNING: /croot/xgboost-split_1675457761144/work/src/learner.cc:767: \n",
      "Parameters: { \"criterion\", \"min_samples_split\", \"splitter\" } are not used.\n",
      "\n",
      "[17:18:49] WARNING: /croot/xgboost-split_1675457761144/work/src/learner.cc:767: \n",
      "Parameters: { \"criterion\", \"min_samples_split\", \"splitter\" } are not used.\n",
      "\n",
      "[17:19:13] WARNING: /croot/xgboost-split_1675457761144/work/src/learner.cc:767: \n",
      "Parameters: { \"criterion\", \"min_samples_split\", \"splitter\" } are not used.\n",
      "\n",
      "[17:19:36] WARNING: /croot/xgboost-split_1675457761144/work/src/learner.cc:767: \n",
      "Parameters: { \"criterion\", \"min_samples_split\", \"splitter\" } are not used.\n",
      "\n",
      "[17:19:58] WARNING: /croot/xgboost-split_1675457761144/work/src/learner.cc:767: \n",
      "Parameters: { \"criterion\", \"min_samples_split\", \"splitter\" } are not used.\n",
      "\n",
      "[17:20:21] WARNING: /croot/xgboost-split_1675457761144/work/src/learner.cc:767: \n",
      "Parameters: { \"criterion\", \"min_samples_split\", \"splitter\" } are not used.\n",
      "\n",
      "[17:20:43] WARNING: /croot/xgboost-split_1675457761144/work/src/learner.cc:767: \n",
      "Parameters: { \"criterion\", \"min_samples_split\", \"splitter\" } are not used.\n",
      "\n",
      "[17:21:06] WARNING: /croot/xgboost-split_1675457761144/work/src/learner.cc:767: \n",
      "Parameters: { \"criterion\", \"min_samples_split\", \"splitter\" } are not used.\n",
      "\n",
      "[17:21:29] WARNING: /croot/xgboost-split_1675457761144/work/src/learner.cc:767: \n",
      "Parameters: { \"criterion\", \"min_samples_split\", \"splitter\" } are not used.\n",
      "\n",
      "[17:21:52] WARNING: /croot/xgboost-split_1675457761144/work/src/learner.cc:767: \n",
      "Parameters: { \"criterion\", \"min_samples_split\", \"splitter\" } are not used.\n",
      "\n",
      "[17:22:15] WARNING: /croot/xgboost-split_1675457761144/work/src/learner.cc:767: \n",
      "Parameters: { \"criterion\", \"min_samples_split\", \"splitter\" } are not used.\n",
      "\n",
      "[17:22:37] WARNING: /croot/xgboost-split_1675457761144/work/src/learner.cc:767: \n",
      "Parameters: { \"criterion\", \"min_samples_split\", \"splitter\" } are not used.\n",
      "\n",
      "[17:22:39] WARNING: /croot/xgboost-split_1675457761144/work/src/learner.cc:767: \n",
      "Parameters: { \"criterion\", \"min_samples_split\", \"splitter\" } are not used.\n",
      "\n",
      "[17:22:41] WARNING: /croot/xgboost-split_1675457761144/work/src/learner.cc:767: \n",
      "Parameters: { \"criterion\", \"min_samples_split\", \"splitter\" } are not used.\n",
      "\n",
      "[17:22:43] WARNING: /croot/xgboost-split_1675457761144/work/src/learner.cc:767: \n",
      "Parameters: { \"criterion\", \"min_samples_split\", \"splitter\" } are not used.\n",
      "\n",
      "[17:22:46] WARNING: /croot/xgboost-split_1675457761144/work/src/learner.cc:767: \n",
      "Parameters: { \"criterion\", \"min_samples_split\", \"splitter\" } are not used.\n",
      "\n",
      "[17:22:48] WARNING: /croot/xgboost-split_1675457761144/work/src/learner.cc:767: \n",
      "Parameters: { \"criterion\", \"min_samples_split\", \"splitter\" } are not used.\n",
      "\n",
      "[17:22:49] WARNING: /croot/xgboost-split_1675457761144/work/src/learner.cc:767: \n",
      "Parameters: { \"criterion\", \"min_samples_split\", \"splitter\" } are not used.\n",
      "\n",
      "[17:22:50] WARNING: /croot/xgboost-split_1675457761144/work/src/learner.cc:767: \n",
      "Parameters: { \"criterion\", \"min_samples_split\", \"splitter\" } are not used.\n",
      "\n",
      "[17:22:51] WARNING: /croot/xgboost-split_1675457761144/work/src/learner.cc:767: \n",
      "Parameters: { \"criterion\", \"min_samples_split\", \"splitter\" } are not used.\n",
      "\n",
      "[17:22:52] WARNING: /croot/xgboost-split_1675457761144/work/src/learner.cc:767: \n",
      "Parameters: { \"criterion\", \"min_samples_split\", \"splitter\" } are not used.\n",
      "\n",
      "[17:22:53] WARNING: /croot/xgboost-split_1675457761144/work/src/learner.cc:767: \n",
      "Parameters: { \"criterion\", \"min_samples_split\", \"splitter\" } are not used.\n",
      "\n",
      "[17:23:14] WARNING: /croot/xgboost-split_1675457761144/work/src/learner.cc:767: \n",
      "Parameters: { \"criterion\", \"min_samples_split\", \"splitter\" } are not used.\n",
      "\n",
      "[17:23:36] WARNING: /croot/xgboost-split_1675457761144/work/src/learner.cc:767: \n",
      "Parameters: { \"criterion\", \"min_samples_split\", \"splitter\" } are not used.\n",
      "\n",
      "[17:23:58] WARNING: /croot/xgboost-split_1675457761144/work/src/learner.cc:767: \n",
      "Parameters: { \"criterion\", \"min_samples_split\", \"splitter\" } are not used.\n",
      "\n",
      "[17:24:20] WARNING: /croot/xgboost-split_1675457761144/work/src/learner.cc:767: \n",
      "Parameters: { \"criterion\", \"min_samples_split\", \"splitter\" } are not used.\n",
      "\n",
      "[17:24:42] WARNING: /croot/xgboost-split_1675457761144/work/src/learner.cc:767: \n",
      "Parameters: { \"criterion\", \"min_samples_split\", \"splitter\" } are not used.\n",
      "\n",
      "{'splitter': 'best', 'min_samples_split': 10, 'max_depth': 10, 'criterion': 'friedman_mse'}\n",
      "0.5564205501996595\n"
     ]
    }
   ],
   "source": [
    "#dtree\n",
    "grid = {'criterion':['squared_error', 'friedman_mse', 'absolute_error', 'poisson'],'splitter':['best','random'],'max_depth': [10, 20, 40, 80, 90, 110, None],'min_samples_split': [2, 5, 10, 12]}\n",
    "hptuning_dtree= RandomizedSearchCV(estimator = xgb, param_distributions = grid)\n",
    "hptuning_dtree.fit(X_train,y_train)\n",
    "print(hptuning_dtree.best_params_)\n",
    "print(hptuning_dtree.best_score_)"
   ]
  },
  {
   "cell_type": "code",
   "execution_count": 13,
   "metadata": {
    "execution": {
     "iopub.execute_input": "2023-11-18T22:06:44.814350Z",
     "iopub.status.busy": "2023-11-18T22:06:44.813912Z",
     "iopub.status.idle": "2023-11-18T22:07:18.741073Z",
     "shell.execute_reply": "2023-11-18T22:07:18.740378Z"
    }
   },
   "outputs": [
    {
     "name": "stderr",
     "output_type": "stream",
     "text": [
      "/home/nalin21478/miniconda3/lib/python3.11/site-packages/sklearn/model_selection/_search.py:305: UserWarning: The total space of parameters 2 is smaller than n_iter=4. Running 2 iterations. For exhaustive searches, use GridSearchCV.\n",
      "  warnings.warn(\n"
     ]
    },
    {
     "name": "stdout",
     "output_type": "stream",
     "text": [
      "Best Hyperparameters for Linear Regression: {'fit_intercept': True}\n",
      "Mean Absolute Error (Linear Regression): 37.301328798693596\n",
      "Mean Squared Error (Linear Regression): 4645.205016989229\n",
      "Root Mean Squared Error (Linear Regression): 68.15574089531438\n",
      "R2 Score (Linear Regression): 0.05861776163133281\n"
     ]
    }
   ],
   "source": [
    "from sklearn.linear_model import LinearRegression\n",
    "from sklearn.model_selection import RandomizedSearchCV\n",
    "from sklearn import metrics\n",
    "import numpy as np\n",
    "\n",
    "# Define the Linear Regression model\n",
    "linear_regressor = LinearRegression()\n",
    "\n",
    "param_dist_linear = {\n",
    "    'fit_intercept': [True, False],\n",
    "}\n",
    "\n",
    "random_search_linear = RandomizedSearchCV(\n",
    "    linear_regressor, param_distributions=param_dist_linear, n_iter=4, cv=5, scoring='neg_mean_squared_error', random_state=42\n",
    ")\n",
    "\n",
    "random_search_linear.fit(X_train, y_train)\n",
    "\n",
    "best_params_linear = random_search_linear.best_params_\n",
    "print('Best Hyperparameters for Linear Regression:', best_params_linear)\n",
    "\n",
    "y_pred_linear = random_search_linear.predict(X_test)\n",
    "\n",
    "print('Mean Absolute Error (Linear Regression):', metrics.mean_absolute_error(y_test, y_pred_linear))\n",
    "print('Mean Squared Error (Linear Regression):', metrics.mean_squared_error(y_test, y_pred_linear))\n",
    "print('Root Mean Squared Error (Linear Regression):', np.sqrt(metrics.mean_squared_error(y_test, y_pred_linear)))\n",
    "print('R2 Score (Linear Regression):', metrics.r2_score(y_test, y_pred_linear))\n"
   ]
  },
  {
   "cell_type": "code",
   "execution_count": 17,
   "metadata": {},
   "outputs": [
    {
     "name": "stdout",
     "output_type": "stream",
     "text": [
      "{'positive': True, 'fit_intercept': True, 'copy_X': True}\n"
     ]
    }
   ],
   "source": [
    "print(hptuning_dtree.best_params_)"
   ]
  },
  {
   "cell_type": "code",
   "execution_count": null,
   "metadata": {},
   "outputs": [],
   "source": []
  }
 ],
 "metadata": {
  "kernelspec": {
   "display_name": "base",
   "language": "python",
   "name": "python3"
  },
  "language_info": {
   "codemirror_mode": {
    "name": "ipython",
    "version": 3
   },
   "file_extension": ".py",
   "mimetype": "text/x-python",
   "name": "python",
   "nbconvert_exporter": "python",
   "pygments_lexer": "ipython3",
   "version": "3.11.5"
  }
 },
 "nbformat": 4,
 "nbformat_minor": 2
}
