{
 "cells": [
  {
   "cell_type": "code",
   "execution_count": 5,
   "metadata": {},
   "outputs": [],
   "source": [
    "import pandas as pd\n",
    "import numpy as np\n",
    "import matplotlib.pyplot as plt"
   ]
  },
  {
   "cell_type": "code",
   "execution_count": 6,
   "metadata": {},
   "outputs": [],
   "source": [
    "import pandas as pd\n",
    "\n",
    "def read_csv_to_dataframe(file_path):\n",
    "    try:\n",
    "        df = pd.read_csv(file_path)\n",
    "        return df\n",
    "    except Exception as e:\n",
    "        print(\"An error occurred:\", e)\n",
    "        return None"
   ]
  },
  {
   "cell_type": "code",
   "execution_count": 8,
   "metadata": {},
   "outputs": [],
   "source": [
    "data=read_csv_to_dataframe('/home/nalin21478/ML-Flight-Delay-Prediction/Data/smoted_data.csv')"
   ]
  },
  {
   "cell_type": "code",
   "execution_count": 9,
   "metadata": {},
   "outputs": [
    {
     "data": {
      "text/html": [
       "<div>\n",
       "<style scoped>\n",
       "    .dataframe tbody tr th:only-of-type {\n",
       "        vertical-align: middle;\n",
       "    }\n",
       "\n",
       "    .dataframe tbody tr th {\n",
       "        vertical-align: top;\n",
       "    }\n",
       "\n",
       "    .dataframe thead th {\n",
       "        text-align: right;\n",
       "    }\n",
       "</style>\n",
       "<table border=\"1\" class=\"dataframe\">\n",
       "  <thead>\n",
       "    <tr style=\"text-align: right;\">\n",
       "      <th></th>\n",
       "      <th>MONTH</th>\n",
       "      <th>DAY_OF_MONTH</th>\n",
       "      <th>DAY_OF_WEEK</th>\n",
       "      <th>DEST</th>\n",
       "      <th>CRS_ELAPSED_TIME</th>\n",
       "      <th>DISTANCE</th>\n",
       "      <th>Temperature</th>\n",
       "      <th>Dew Point</th>\n",
       "      <th>Humidity</th>\n",
       "      <th>Wind</th>\n",
       "      <th>Wind Speed</th>\n",
       "      <th>Wind Gust</th>\n",
       "      <th>Pressure</th>\n",
       "      <th>Condition</th>\n",
       "      <th>sch_dep</th>\n",
       "      <th>sch_arr</th>\n",
       "      <th>DEP_DELAY</th>\n",
       "      <th>Delayed</th>\n",
       "    </tr>\n",
       "  </thead>\n",
       "  <tbody>\n",
       "    <tr>\n",
       "      <th>0</th>\n",
       "      <td>11</td>\n",
       "      <td>1</td>\n",
       "      <td>5</td>\n",
       "      <td>10</td>\n",
       "      <td>-0.848855</td>\n",
       "      <td>-0.711515</td>\n",
       "      <td>0.761435</td>\n",
       "      <td>0.184485</td>\n",
       "      <td>-0.038486</td>\n",
       "      <td>15</td>\n",
       "      <td>2.069328</td>\n",
       "      <td>2.821704</td>\n",
       "      <td>-0.727985</td>\n",
       "      <td>3</td>\n",
       "      <td>-2.33048</td>\n",
       "      <td>-1.390801</td>\n",
       "      <td>-1</td>\n",
       "      <td>0</td>\n",
       "    </tr>\n",
       "    <tr>\n",
       "      <th>1</th>\n",
       "      <td>11</td>\n",
       "      <td>1</td>\n",
       "      <td>5</td>\n",
       "      <td>28</td>\n",
       "      <td>1.217334</td>\n",
       "      <td>1.354774</td>\n",
       "      <td>0.761435</td>\n",
       "      <td>0.184485</td>\n",
       "      <td>-0.038486</td>\n",
       "      <td>15</td>\n",
       "      <td>2.069328</td>\n",
       "      <td>2.821704</td>\n",
       "      <td>-0.727985</td>\n",
       "      <td>3</td>\n",
       "      <td>-2.33048</td>\n",
       "      <td>-1.390801</td>\n",
       "      <td>-7</td>\n",
       "      <td>0</td>\n",
       "    </tr>\n",
       "    <tr>\n",
       "      <th>2</th>\n",
       "      <td>11</td>\n",
       "      <td>1</td>\n",
       "      <td>5</td>\n",
       "      <td>20</td>\n",
       "      <td>-0.372043</td>\n",
       "      <td>-0.224999</td>\n",
       "      <td>0.761435</td>\n",
       "      <td>0.184485</td>\n",
       "      <td>-0.038486</td>\n",
       "      <td>15</td>\n",
       "      <td>2.069328</td>\n",
       "      <td>2.821704</td>\n",
       "      <td>-0.727985</td>\n",
       "      <td>3</td>\n",
       "      <td>-2.33048</td>\n",
       "      <td>-1.390801</td>\n",
       "      <td>40</td>\n",
       "      <td>1</td>\n",
       "    </tr>\n",
       "    <tr>\n",
       "      <th>3</th>\n",
       "      <td>11</td>\n",
       "      <td>1</td>\n",
       "      <td>5</td>\n",
       "      <td>30</td>\n",
       "      <td>-0.480789</td>\n",
       "      <td>-0.365448</td>\n",
       "      <td>0.761435</td>\n",
       "      <td>0.184485</td>\n",
       "      <td>-0.038486</td>\n",
       "      <td>15</td>\n",
       "      <td>2.069328</td>\n",
       "      <td>2.821704</td>\n",
       "      <td>-0.727985</td>\n",
       "      <td>3</td>\n",
       "      <td>-2.33048</td>\n",
       "      <td>-1.390801</td>\n",
       "      <td>-2</td>\n",
       "      <td>0</td>\n",
       "    </tr>\n",
       "    <tr>\n",
       "      <th>4</th>\n",
       "      <td>11</td>\n",
       "      <td>1</td>\n",
       "      <td>5</td>\n",
       "      <td>1</td>\n",
       "      <td>-0.723378</td>\n",
       "      <td>-0.572189</td>\n",
       "      <td>0.494669</td>\n",
       "      <td>0.002399</td>\n",
       "      <td>-0.038486</td>\n",
       "      <td>15</td>\n",
       "      <td>1.907431</td>\n",
       "      <td>2.563372</td>\n",
       "      <td>-0.555007</td>\n",
       "      <td>3</td>\n",
       "      <td>-2.33048</td>\n",
       "      <td>-1.390801</td>\n",
       "      <td>-4</td>\n",
       "      <td>0</td>\n",
       "    </tr>\n",
       "  </tbody>\n",
       "</table>\n",
       "</div>"
      ],
      "text/plain": [
       "   MONTH  DAY_OF_MONTH  DAY_OF_WEEK  DEST  CRS_ELAPSED_TIME  DISTANCE  \\\n",
       "0     11             1            5    10         -0.848855 -0.711515   \n",
       "1     11             1            5    28          1.217334  1.354774   \n",
       "2     11             1            5    20         -0.372043 -0.224999   \n",
       "3     11             1            5    30         -0.480789 -0.365448   \n",
       "4     11             1            5     1         -0.723378 -0.572189   \n",
       "\n",
       "   Temperature  Dew Point  Humidity  Wind  Wind Speed  Wind Gust  Pressure  \\\n",
       "0     0.761435   0.184485 -0.038486    15    2.069328   2.821704 -0.727985   \n",
       "1     0.761435   0.184485 -0.038486    15    2.069328   2.821704 -0.727985   \n",
       "2     0.761435   0.184485 -0.038486    15    2.069328   2.821704 -0.727985   \n",
       "3     0.761435   0.184485 -0.038486    15    2.069328   2.821704 -0.727985   \n",
       "4     0.494669   0.002399 -0.038486    15    1.907431   2.563372 -0.555007   \n",
       "\n",
       "   Condition  sch_dep   sch_arr  DEP_DELAY  Delayed  \n",
       "0          3 -2.33048 -1.390801         -1        0  \n",
       "1          3 -2.33048 -1.390801         -7        0  \n",
       "2          3 -2.33048 -1.390801         40        1  \n",
       "3          3 -2.33048 -1.390801         -2        0  \n",
       "4          3 -2.33048 -1.390801         -4        0  "
      ]
     },
     "execution_count": 9,
     "metadata": {},
     "output_type": "execute_result"
    }
   ],
   "source": [
    "data.head()"
   ]
  },
  {
   "cell_type": "code",
   "execution_count": 10,
   "metadata": {},
   "outputs": [],
   "source": [
    "data=data.drop(['Delayed'],axis=1)"
   ]
  },
  {
   "cell_type": "code",
   "execution_count": 11,
   "metadata": {},
   "outputs": [],
   "source": [
    "from sklearn.model_selection import train_test_split\n",
    "\n",
    "\n",
    "X = data.iloc[:, :-1]  \n",
    "y = data.iloc[:, -1]   \n",
    "\n",
    "X_train, X_test, y_train, y_test = train_test_split(X, y, test_size=0.2, random_state=42)\n",
    "\n",
    "\n",
    "X_train = X_train.reset_index(drop=True)\n",
    "X_test = X_test.reset_index(drop=True)\n"
   ]
  },
  {
   "cell_type": "code",
   "execution_count": 12,
   "metadata": {},
   "outputs": [],
   "source": [
    "from sklearn.metrics import mean_squared_error, r2_score\n",
    "from sklearn.model_selection import KFold\n",
    "import joblib\n",
    "def evaluate_regressor_with_kfold(X_train, y_train, X_test, y_test, regressor, num_folds=10, model_name=None):\n",
    "\n",
    "    k_fold = KFold(n_splits=num_folds, shuffle=True, random_state=0)\n",
    "\n",
    "    mse_scores_train = []\n",
    "    r2_scores_train = []\n",
    "\n",
    "    for train_indices, val_indices in k_fold.split(X_train, y_train):\n",
    "        X_fold_train, X_fold_val = X_train[train_indices], X_train[val_indices]\n",
    "        y_fold_train, y_fold_val = y_train[train_indices], y_train[val_indices]\n",
    "\n",
    "        regressor.fit(X_fold_train, y_fold_train)\n",
    "\n",
    "        y_val_pred = regressor.predict(X_fold_val)\n",
    "\n",
    "        mse_train = mean_squared_error(y_fold_val, y_val_pred)\n",
    "        r2_train = r2_score(y_fold_val, y_val_pred)\n",
    "\n",
    "        mse_scores_train.append(mse_train)\n",
    "        r2_scores_train.append(r2_train)\n",
    "\n",
    "    average_mse_train = np.mean(mse_scores_train)\n",
    "    average_r2_train = np.mean(r2_scores_train)\n",
    "    print(f'Average Mean Squared Error Train: {average_mse_train}')\n",
    "    print(f'Average R^2 Score Train: {average_r2_train}')\n",
    "\n",
    "    y_pred = regressor.predict(X_test)\n",
    "    mse_test = mean_squared_error(y_test, y_pred)\n",
    "    r2_test = r2_score(y_test, y_pred)\n",
    "\n",
    "    print(f'Mean Squared Error Test: {mse_test}')\n",
    "    print(f'R^2 Score Test: {r2_test}')\n",
    "\n",
    "    if model_name is not None:\n",
    "        joblib.dump(regressor, f'{model_name}.pkl')\n",
    "\n",
    "    return average_mse_train, average_r2_train, mse_test, r2_test"
   ]
  },
  {
   "cell_type": "markdown",
   "metadata": {},
   "source": [
    "# KNN Regression"
   ]
  },
  {
   "cell_type": "code",
   "execution_count": 8,
   "metadata": {},
   "outputs": [
    {
     "name": "stdout",
     "output_type": "stream",
     "text": [
      "Average Mean Squared Error Train: 1677.1200322734353\n",
      "Average R^2 Score Train: 0.6438484862130844\n",
      "Mean Squared Error Test: 1569.5645056155624\n",
      "R^2 Score Test: 0.68191712913501\n"
     ]
    }
   ],
   "source": [
    "from sklearn.neighbors import KNeighborsRegressor\n",
    "\n",
    "knn = KNeighborsRegressor(weights='distance', n_neighbors=3, metric='manhattan')\n",
    "result=evaluate_regressor_with_kfold(X_train.values, y_train.values, X_test.values, y_test.values, knn, num_folds=10, model_name='knn_hypertuned_regression')"
   ]
  },
  {
   "cell_type": "markdown",
   "metadata": {},
   "source": [
    "# GB"
   ]
  },
  {
   "cell_type": "code",
   "execution_count": 13,
   "metadata": {},
   "outputs": [
    {
     "name": "stdout",
     "output_type": "stream",
     "text": [
      "Average Mean Squared Error Train: 2976.2377742182784\n",
      "Average R^2 Score Train: 0.37076428453843596\n",
      "Mean Squared Error Test: 3159.804959174802\n",
      "R^2 Score Test: 0.35964413747138446\n"
     ]
    }
   ],
   "source": [
    "from sklearn.ensemble import GradientBoostingRegressor\n",
    "\n",
    "gb_regressor = GradientBoostingRegressor(subsample=0.9, n_estimators=100, min_samples_split=2, min_samples_leaf=2, max_depth=4, learning_rate=0.1)\n",
    "result=evaluate_regressor_with_kfold(X_train.values, y_train.values, X_test.values, y_test.values, gb_regressor, num_folds=10, model_name='gb_hypertuned_regression')"
   ]
  },
  {
   "cell_type": "markdown",
   "metadata": {},
   "source": [
    "'n_estimators': 100, 'min_samples_split': 2, 'min_samples_leaf': 2, 'max_depth': 4, 'learning_rate': 0.1"
   ]
  },
  {
   "cell_type": "markdown",
   "metadata": {},
   "source": [
    "# Adaboost"
   ]
  },
  {
   "cell_type": "code",
   "execution_count": 13,
   "metadata": {},
   "outputs": [
    {
     "name": "stdout",
     "output_type": "stream",
     "text": [
      "Average Mean Squared Error Train: 7371.104643207684\n",
      "Average R^2 Score Train: -0.5730566560676766\n",
      "Mean Squared Error Test: 6371.427074334441\n",
      "R^2 Score Test: -0.2912128224487345\n"
     ]
    }
   ],
   "source": [
    "from sklearn.ensemble import AdaBoostRegressor\n",
    "from sklearn.tree import DecisionTreeRegressor\n",
    "\n",
    "\n",
    "\n",
    "adaboost_regressor = AdaBoostRegressor()\n",
    "\n",
    "result = evaluate_regressor_with_kfold(X_train.values, y_train.values, X_test.values, y_test.values, adaboost_regressor, num_folds=10, model_name='adaboost_regression')\n"
   ]
  },
  {
   "cell_type": "markdown",
   "metadata": {},
   "source": [
    "# Ridge and LAsso"
   ]
  },
  {
   "cell_type": "code",
   "execution_count": 14,
   "metadata": {},
   "outputs": [
    {
     "name": "stdout",
     "output_type": "stream",
     "text": [
      "Average Mean Squared Error Train: 4464.481413526193\n",
      "Average R^2 Score Train: 0.05568228979693714\n",
      "Mean Squared Error Test: 4644.431328981691\n",
      "R^2 Score Test: 0.05877455474286852\n"
     ]
    }
   ],
   "source": [
    "from sklearn.linear_model import Ridge, Lasso\n",
    "\n",
    "\n",
    "ridge_regressor = Ridge(alpha=1.0)  \n",
    "result_ridge = evaluate_regressor_with_kfold(X_train.values, y_train.values, X_test.values, y_test.values, ridge_regressor, num_folds=10, model_name='ridge_regression')\n",
    "\n"
   ]
  },
  {
   "cell_type": "code",
   "execution_count": 15,
   "metadata": {},
   "outputs": [
    {
     "name": "stdout",
     "output_type": "stream",
     "text": [
      "Average Mean Squared Error Train: 4469.523503786137\n",
      "Average R^2 Score Train: 0.054646689353758035\n",
      "Mean Squared Error Test: 4652.912151580084\n",
      "R^2 Score Test: 0.0570558586397506\n"
     ]
    }
   ],
   "source": [
    "\n",
    "lasso_regressor = Lasso(alpha=0.1)  # You can adjust the alpha parameter\n",
    "result_lasso = evaluate_regressor_with_kfold(X_train.values, y_train.values, X_test.values, y_test.values, lasso_regressor, num_folds=10, model_name='lasso_regression')\n"
   ]
  },
  {
   "cell_type": "markdown",
   "metadata": {},
   "source": [
    "# Linear Regression"
   ]
  },
  {
   "cell_type": "code",
   "execution_count": 22,
   "metadata": {},
   "outputs": [
    {
     "name": "stdout",
     "output_type": "stream",
     "text": [
      "Average Mean Squared Error Train: 4464.482738762302\n",
      "Average R^2 Score Train: 0.055681531543925154\n",
      "Mean Squared Error Test: 4644.388304950272\n",
      "R^2 Score Test: 0.05878327385404947\n"
     ]
    }
   ],
   "source": [
    "\n",
    "from sklearn.linear_model import LinearRegression\n",
    "\n",
    "linear_regressor = LinearRegression(fit_intercept=True)\n",
    "\n",
    "\n",
    "\n",
    "# Evaluate the model using your evaluation function\n",
    "result_linear = evaluate_regressor_with_kfold(X_train.values, y_train.values, X_test.values, y_test.values, linear_regressor, num_folds=10, model_name='linear_regression')\n"
   ]
  },
  {
   "cell_type": "markdown",
   "metadata": {},
   "source": [
    "# Random Forest"
   ]
  },
  {
   "cell_type": "code",
   "execution_count": 17,
   "metadata": {},
   "outputs": [
    {
     "name": "stdout",
     "output_type": "stream",
     "text": [
      "Average Mean Squared Error Train: 3102.407919822637\n",
      "Average R^2 Score Train: 0.3414895483571355\n",
      "Mean Squared Error Test: 3289.5423912427595\n",
      "R^2 Score Test: 0.3333519687180887\n"
     ]
    }
   ],
   "source": [
    "from sklearn.ensemble import RandomForestRegressor\n",
    "\n",
    "random_forest_regressor = RandomForestRegressor(n_estimators=230, max_depth=10,min_samples_split=2, bootstrap=True)\n",
    "\n",
    "result_random_forest = evaluate_regressor_with_kfold(X_train.values, y_train.values, X_test.values, y_test.values, random_forest_regressor, num_folds=10, model_name='random_forest_regression')\n"
   ]
  },
  {
   "cell_type": "markdown",
   "metadata": {},
   "source": [
    "# XGBoost"
   ]
  },
  {
   "cell_type": "code",
   "execution_count": 19,
   "metadata": {},
   "outputs": [
    {
     "name": "stdout",
     "output_type": "stream",
     "text": [
      "Average Mean Squared Error Train: 2199.3990005954397\n",
      "Average R^2 Score Train: 0.5342254955048535\n",
      "Mean Squared Error Test: 2315.346337624081\n",
      "R^2 Score Test: 0.5307793929569187\n"
     ]
    }
   ],
   "source": [
    "from xgboost import XGBRegressor\n",
    "from sklearn import metrics\n",
    "from sklearn.metrics import accuracy_score\n",
    "\n",
    "xgb = XGBRegressor(n_estimators=130)\n",
    "result_xgb = evaluate_regressor_with_kfold(X_train.values, y_train.values, X_test.values, y_test.values, xgb, num_folds=10, model_name='xgb_regression')"
   ]
  },
  {
   "cell_type": "markdown",
   "metadata": {},
   "source": [
    "# Decision Tree"
   ]
  },
  {
   "cell_type": "code",
   "execution_count": 20,
   "metadata": {},
   "outputs": [
    {
     "name": "stdout",
     "output_type": "stream",
     "text": [
      "Average Mean Squared Error Train: 3743.065708499535\n",
      "Average R^2 Score Train: 0.2004470158967444\n",
      "Mean Squared Error Test: 3819.770978929628\n",
      "R^2 Score Test: 0.22589755650201782\n"
     ]
    }
   ],
   "source": [
    "from sklearn.tree import DecisionTreeRegressor\n",
    "\n",
    "\n",
    "\n",
    "tree_regressor = DecisionTreeRegressor(min_samples_split=2, min_samples_leaf=4, max_features='sqrt', max_depth=None)\n",
    "result_df=evaluate_regressor_with_kfold(X_train.values, y_train.values, X_test.values, y_test.values, tree_regressor, num_folds=10, model_name='decision_tree_regression')"
   ]
  },
  {
   "cell_type": "markdown",
   "metadata": {},
   "source": [
    "# SVR"
   ]
  },
  {
   "cell_type": "code",
   "execution_count": 21,
   "metadata": {},
   "outputs": [
    {
     "name": "stdout",
     "output_type": "stream",
     "text": [
      "Average Mean Squared Error Train: 4957.627073095535\n",
      "Average R^2 Score Train: -0.04902390490461132\n",
      "Mean Squared Error Test: 5165.627425766063\n",
      "R^2 Score Test: -0.04684936205421919\n"
     ]
    }
   ],
   "source": [
    "from sklearn.svm import SVR\n",
    "svr_regressor = SVR()\n",
    "result_svr = evaluate_regressor_with_kfold(X_train.values, y_train.values, X_test.values, y_test.values, svr_regressor, num_folds=10, model_name='svr_regression')"
   ]
  },
  {
   "cell_type": "code",
   "execution_count": null,
   "metadata": {},
   "outputs": [],
   "source": []
  }
 ],
 "metadata": {
  "kernelspec": {
   "display_name": "base",
   "language": "python",
   "name": "python3"
  },
  "language_info": {
   "codemirror_mode": {
    "name": "ipython",
    "version": 3
   },
   "file_extension": ".py",
   "mimetype": "text/x-python",
   "name": "python",
   "nbconvert_exporter": "python",
   "pygments_lexer": "ipython3",
   "version": "3.11.5"
  }
 },
 "nbformat": 4,
 "nbformat_minor": 2
}
